{
 "cells": [
  {
   "cell_type": "markdown",
   "metadata": {
    "id": "6uBju7svapPs"
   },
   "source": [
    "### CS 439 - Introduction to Data Science\n",
    "### Fall 2022\n",
    "\n",
    "# Midsemester Project : Twitter Data Analysis\n",
    "\n",
    "### Due Date : Monday November 23rd, 2022 by 11:59 PM \n",
    "\n",
    "\n",
    "### About this project\n",
    "This is your mid-semester project. You can work on this project in two ways.\n",
    "\n",
    "#### You can work by yourself\n",
    "If you work by yourself, you have two parts optional. Part 1 and Part 7. \n",
    "    \n",
    "### Project Purpose    \n",
    " \n",
    "The goal of this mid-semester project is to work with Twitter API to analyze tweets from a person, and in this case, Former President Donald Trump.  @RealDonaldTrump tweets provide a great opportunity to understand how online media can be used to communicate over the traditional media. In fact, social media post are so influential, now the traditional media spends considerable amount of time discussing social media posts. Tweets from people such as Donald Trump and Elon Musk have become so consequential, they can move the stock market on short term and get network TV to debate and discuss hours and hours about what Trump or Musk meant.\n",
    "\n",
    "We hope this project will be fun as we can analyze range of emotions, hope, controversy, vagueness that are part of Trump tweets. We are interested in seeing what conclusions you can draw from US Presidents tweets. \n",
    "* DISCLAIMER: This project is not designed with any bias in mind. Note that we could pick any person (Hillary Clinton or Donald Trump or Elon Musk) or anyone else to do the same analysis. We hope your analysis is objective, independent of any political bias you may have. As Data Scientists, it is our responsiblity to do independent analysis of the data we try to understand. You should follow data and interpret w/o any bias.\n"
   ]
  },
  {
   "cell_type": "markdown",
   "metadata": {
    "id": "nrwHuwfbapPw"
   },
   "source": [
    "## Set up\n",
    "Let us get all the libaries initialized as necessary"
   ]
  },
  {
   "cell_type": "code",
   "execution_count": 2,
   "metadata": {
    "id": "M_FL--h5apPw"
   },
   "outputs": [],
   "source": [
    "# Run this cell to set up your notebook\n",
    "import csv\n",
    "import numpy as np\n",
    "import pandas as pd\n",
    "import matplotlib.pyplot as plt\n",
    "import zipfile\n",
    "import json\n",
    "\n",
    "# Ensure that Pandas shows at least 280 characters in columns, so we can see full tweets\n",
    "pd.set_option('max_colwidth', 280)\n",
    "\n",
    "%matplotlib inline\n",
    "plt.style.use('fivethirtyeight')\n",
    "import seaborn as sns\n",
    "sns.set()\n",
    "sns.set_context(\"talk\")\n",
    "import re"
   ]
  },
  {
   "cell_type": "markdown",
   "metadata": {
    "id": "usVPef0dapP2"
   },
   "source": [
    "## PART 2 - Working with Twitter Data (group and individual)\n",
    "The json file in data folder contains (to be downloaded by you) some loaded tweets from @RutgersU. Run it and read the code. You can also try other json files in the data folder to try this. "
   ]
  },
  {
   "cell_type": "code",
   "execution_count": 3,
   "metadata": {
    "id": "LtJWj1sVapP2"
   },
   "outputs": [],
   "source": [
    "from pathlib import Path\n",
    "import json\n",
    "\n",
    "ds_tweets_save_path = \"data/RutgersU_recent_tweets.json\"   # need to get this file\n",
    "\n",
    "# Guarding against attempts to download the data multiple\n",
    "# times:\n",
    "if not Path(ds_tweets_save_path).is_file():\n",
    "    # Getting as many recent tweets by @RutgersU as Twitter will let us have.\n",
    "    # We use tweet_mode='extended' so that Twitter gives us full 280 character tweets.\n",
    "    # This was a change introduced in September 2017.\n",
    "    \n",
    "    # The tweepy Cursor API actually returns \"sophisticated\" Status objects but we \n",
    "    # will use the basic Python dictionaries stored in the _json field. \n",
    "    example_tweets = [t._json for t in tweepy.Cursor(api.user_timeline, screen_name=\"RutgersU\", \n",
    "                                             tweet_mode='extended').items()]\n",
    "    \n",
    "    # Saving the tweets to a json file on disk for future analysis\n",
    "    with open(ds_tweets_save_path, \"w\") as f:        \n",
    "        json.dump(example_tweets, f)\n",
    "\n",
    "# Re-loading the json file:\n",
    "with open(ds_tweets_save_path, \"r\") as f:\n",
    "    example_tweets = json.load(f)"
   ]
  },
  {
   "cell_type": "markdown",
   "metadata": {
    "id": "hPx2hgTcapP3"
   },
   "source": [
    "If things ran as expected, you should be able to look at the first tweet by running the code below. It probabably does not make sense to view all tweets in a notebook, as size of the tweets can freeze your browser (always a good idea to press ctrl-S to save the latest, in case you have to restart Jupyter)"
   ]
  },
  {
   "cell_type": "code",
   "execution_count": 4,
   "metadata": {
    "id": "V6YxFwAKapP3",
    "outputId": "9c8bb2ee-4f49-4f05-cc2b-546fd168dd25"
   },
   "outputs": [
    {
     "name": "stdout",
     "output_type": "stream",
     "text": [
      "{'contributors': None,\n",
      " 'coordinates': None,\n",
      " 'created_at': 'Sat Nov 02 23:02:49 +0000 2019',\n",
      " 'display_text_range': [0, 140],\n",
      " 'entities': {'hashtags': [{'indices': [22, 31], 'text': 'internet'}],\n",
      "              'symbols': [],\n",
      "              'urls': [],\n",
      "              'user_mentions': [{'id': 955836661702774784,\n",
      "                                 'id_str': '955836661702774784',\n",
      "                                 'indices': [3, 13],\n",
      "                                 'name': 'Rutgers University–New Brunswick',\n",
      "                                 'screen_name': 'RutgersNB'},\n",
      "                                {'id': 52517689,\n",
      "                                 'id_str': '52517689',\n",
      "                                 'indices': [42, 58],\n",
      "                                 'name': 'Rutgers School of Communication and '\n",
      "                                         'Information',\n",
      "                                 'screen_name': 'RutgersCommInfo'},\n",
      "                                {'id': 392737670,\n",
      "                                 'id_str': '392737670',\n",
      "                                 'indices': [61, 72],\n",
      "                                 'name': 'Mary Chayko',\n",
      "                                 'screen_name': 'MaryChayko'}]},\n",
      " 'favorite_count': 0,\n",
      " 'favorited': False,\n",
      " 'full_text': \"RT @RutgersNB: As the #internet turns 50, @RutgersCommInfo's \"\n",
      "              '@MaryChayko focuses on how we have used the innovation and what '\n",
      "              'it has meant f…',\n",
      " 'geo': None,\n",
      " 'id': 1190766238110236673,\n",
      " 'id_str': '1190766238110236673',\n",
      " 'in_reply_to_screen_name': None,\n",
      " 'in_reply_to_status_id': None,\n",
      " 'in_reply_to_status_id_str': None,\n",
      " 'in_reply_to_user_id': None,\n",
      " 'in_reply_to_user_id_str': None,\n",
      " 'is_quote_status': False,\n",
      " 'lang': 'en',\n",
      " 'place': None,\n",
      " 'retweet_count': 3,\n",
      " 'retweeted': False,\n",
      " 'retweeted_status': {'contributors': None,\n",
      "                      'coordinates': None,\n",
      "                      'created_at': 'Sat Nov 02 18:26:39 +0000 2019',\n",
      "                      'display_text_range': [0, 191],\n",
      "                      'entities': {'hashtags': [{'indices': [7, 16],\n",
      "                                                 'text': 'internet'}],\n",
      "                                   'symbols': [],\n",
      "                                   'urls': [{'display_url': 'nbcnews.com/think/opinion/…',\n",
      "                                             'expanded_url': 'https://www.nbcnews.com/think/opinion/what-50-years-spent-internet-worth-humanity-ncna1073656',\n",
      "                                             'indices': [168, 191],\n",
      "                                             'url': 'https://t.co/dmxjKYGmvU'}],\n",
      "                                   'user_mentions': [{'id': 52517689,\n",
      "                                                      'id_str': '52517689',\n",
      "                                                      'indices': [27, 43],\n",
      "                                                      'name': 'Rutgers School '\n",
      "                                                              'of '\n",
      "                                                              'Communication '\n",
      "                                                              'and Information',\n",
      "                                                      'screen_name': 'RutgersCommInfo'},\n",
      "                                                     {'id': 392737670,\n",
      "                                                      'id_str': '392737670',\n",
      "                                                      'indices': [46, 57],\n",
      "                                                      'name': 'Mary Chayko',\n",
      "                                                      'screen_name': 'MaryChayko'}]},\n",
      "                      'favorite_count': 6,\n",
      "                      'favorited': False,\n",
      "                      'full_text': 'As the #internet turns 50, '\n",
      "                                   \"@RutgersCommInfo's @MaryChayko focuses on \"\n",
      "                                   'how we have used the innovation and what '\n",
      "                                   'it has meant for the way we communicate '\n",
      "                                   'with each other.\\n'\n",
      "                                   '\\n'\n",
      "                                   'https://t.co/dmxjKYGmvU',\n",
      "                      'geo': None,\n",
      "                      'id': 1190696737868001280,\n",
      "                      'id_str': '1190696737868001280',\n",
      "                      'in_reply_to_screen_name': None,\n",
      "                      'in_reply_to_status_id': None,\n",
      "                      'in_reply_to_status_id_str': None,\n",
      "                      'in_reply_to_user_id': None,\n",
      "                      'in_reply_to_user_id_str': None,\n",
      "                      'is_quote_status': False,\n",
      "                      'lang': 'en',\n",
      "                      'place': None,\n",
      "                      'possibly_sensitive': False,\n",
      "                      'retweet_count': 3,\n",
      "                      'retweeted': False,\n",
      "                      'source': '<a href=\"https://sproutsocial.com\" '\n",
      "                                'rel=\"nofollow\">Sprout Social</a>',\n",
      "                      'truncated': False,\n",
      "                      'user': {'can_media_tag': True,\n",
      "                               'contributors_enabled': False,\n",
      "                               'created_at': 'Tue Jan 23 16:16:33 +0000 2018',\n",
      "                               'default_profile': False,\n",
      "                               'default_profile_image': False,\n",
      "                               'description': 'The official Twitter account of '\n",
      "                                              'Rutgers University–New '\n",
      "                                              'Brunswick, the flagship home of '\n",
      "                                              'Rutgers, The State University '\n",
      "                                              'of New Jersey.',\n",
      "                               'entities': {'description': {'urls': []},\n",
      "                                            'url': {'urls': [{'display_url': 'newbrunswick.rutgers.edu',\n",
      "                                                              'expanded_url': 'https://newbrunswick.rutgers.edu/',\n",
      "                                                              'indices': [0,\n",
      "                                                                          23],\n",
      "                                                              'url': 'https://t.co/Pll3p27ECO'}]}},\n",
      "                               'favourites_count': 1274,\n",
      "                               'follow_request_sent': False,\n",
      "                               'followed_by': False,\n",
      "                               'followers_count': 2094,\n",
      "                               'following': False,\n",
      "                               'friends_count': 178,\n",
      "                               'geo_enabled': True,\n",
      "                               'has_extended_profile': False,\n",
      "                               'id': 955836661702774784,\n",
      "                               'id_str': '955836661702774784',\n",
      "                               'is_translation_enabled': False,\n",
      "                               'is_translator': False,\n",
      "                               'lang': None,\n",
      "                               'listed_count': 18,\n",
      "                               'location': 'New Brunswick, NJ',\n",
      "                               'name': 'Rutgers University–New Brunswick',\n",
      "                               'notifications': False,\n",
      "                               'profile_background_color': '000000',\n",
      "                               'profile_background_image_url': 'http://abs.twimg.com/images/themes/theme1/bg.png',\n",
      "                               'profile_background_image_url_https': 'https://abs.twimg.com/images/themes/theme1/bg.png',\n",
      "                               'profile_background_tile': False,\n",
      "                               'profile_banner_url': 'https://pbs.twimg.com/profile_banners/955836661702774784/1564589696',\n",
      "                               'profile_image_url': 'http://pbs.twimg.com/profile_images/1111272066609827848/9zSX0WEt_normal.png',\n",
      "                               'profile_image_url_https': 'https://pbs.twimg.com/profile_images/1111272066609827848/9zSX0WEt_normal.png',\n",
      "                               'profile_link_color': 'E81C4F',\n",
      "                               'profile_sidebar_border_color': '000000',\n",
      "                               'profile_sidebar_fill_color': '000000',\n",
      "                               'profile_text_color': '000000',\n",
      "                               'profile_use_background_image': False,\n",
      "                               'protected': False,\n",
      "                               'screen_name': 'RutgersNB',\n",
      "                               'statuses_count': 1679,\n",
      "                               'time_zone': None,\n",
      "                               'translator_type': 'none',\n",
      "                               'url': 'https://t.co/Pll3p27ECO',\n",
      "                               'utc_offset': None,\n",
      "                               'verified': False}},\n",
      " 'source': '<a href=\"http://twitter.com/download/iphone\" '\n",
      "           'rel=\"nofollow\">Twitter for iPhone</a>',\n",
      " 'truncated': False,\n",
      " 'user': {'can_media_tag': True,\n",
      "          'contributors_enabled': False,\n",
      "          'created_at': 'Wed Jan 21 02:57:47 +0000 2009',\n",
      "          'default_profile': False,\n",
      "          'default_profile_image': False,\n",
      "          'description': 'Rutgers, The State University of New Jersey, is a '\n",
      "                         'leading public research university. Follow us for '\n",
      "                         'all things Rutgers.',\n",
      "          'entities': {'description': {'urls': []},\n",
      "                       'url': {'urls': [{'display_url': 'rutgers.edu',\n",
      "                                         'expanded_url': 'http://www.rutgers.edu',\n",
      "                                         'indices': [0, 22],\n",
      "                                         'url': 'http://t.co/stAPJIzh8b'}]}},\n",
      "          'favourites_count': 4590,\n",
      "          'follow_request_sent': False,\n",
      "          'followed_by': False,\n",
      "          'followers_count': 132798,\n",
      "          'following': False,\n",
      "          'friends_count': 595,\n",
      "          'geo_enabled': True,\n",
      "          'has_extended_profile': False,\n",
      "          'id': 19272796,\n",
      "          'id_str': '19272796',\n",
      "          'is_translation_enabled': False,\n",
      "          'is_translator': False,\n",
      "          'lang': None,\n",
      "          'listed_count': 838,\n",
      "          'location': 'New Jersey',\n",
      "          'name': 'Rutgers University',\n",
      "          'notifications': False,\n",
      "          'profile_background_color': 'C7141C',\n",
      "          'profile_background_image_url': 'http://abs.twimg.com/images/themes/theme15/bg.png',\n",
      "          'profile_background_image_url_https': 'https://abs.twimg.com/images/themes/theme15/bg.png',\n",
      "          'profile_background_tile': False,\n",
      "          'profile_banner_url': 'https://pbs.twimg.com/profile_banners/19272796/1494779773',\n",
      "          'profile_image_url': 'http://pbs.twimg.com/profile_images/809450270375772160/rWmyBIig_normal.jpg',\n",
      "          'profile_image_url_https': 'https://pbs.twimg.com/profile_images/809450270375772160/rWmyBIig_normal.jpg',\n",
      "          'profile_link_color': '0084B4',\n",
      "          'profile_sidebar_border_color': '000205',\n",
      "          'profile_sidebar_fill_color': 'C0DFEC',\n",
      "          'profile_text_color': '333333',\n",
      "          'profile_use_background_image': False,\n",
      "          'protected': False,\n",
      "          'screen_name': 'RutgersU',\n",
      "          'statuses_count': 16165,\n",
      "          'time_zone': None,\n",
      "          'translator_type': 'none',\n",
      "          'url': 'http://t.co/stAPJIzh8b',\n",
      "          'utc_offset': None,\n",
      "          'verified': True}}\n"
     ]
    }
   ],
   "source": [
    "# Looking at one tweet object, which has type Status: \n",
    "from pprint import pprint # ...to get a more easily-readable view.\n",
    "pprint(example_tweets[0])"
   ]
  },
  {
   "cell_type": "markdown",
   "metadata": {
    "id": "6vhrwHw5apP5"
   },
   "source": [
    "### Task 2.2\n",
    "To be consistent we are going to use the same dataset no matter what you get from your twitter api. So from this point on, if you are working as a group or individually, be sure to use the data sets provided to you in the zip file. There should be two json files inside your data folder. One is '2017-2018.json', the other one is '2016-2017.json'. We will load the '2017-2018.json' first."
   ]
  },
  {
   "cell_type": "code",
   "execution_count": 5,
   "metadata": {
    "id": "kLq9NDhAapP5"
   },
   "outputs": [],
   "source": [
    "def load_tweets(path):\n",
    "    \"\"\"Loads tweets that have previously been saved.\n",
    "    \n",
    "    Calling load_tweets(path) after save_tweets(tweets, path)\n",
    "    will produce the same list of tweets.\n",
    "    \n",
    "    Args:\n",
    "        path (str): The place where the tweets will be saved.\n",
    "\n",
    "    Returns:\n",
    "        list: A list of Dictionary objects, each representing one tweet.\"\"\"\n",
    "    \n",
    "    with open(path, \"rb\") as f:\n",
    "        import json\n",
    "        return json.load(f)"
   ]
  },
  {
   "cell_type": "code",
   "execution_count": 6,
   "metadata": {
    "id": "xW1xN_3XapP6"
   },
   "outputs": [],
   "source": [
    "dest_path = \"./data/2017-2018.json\"\n",
    "trump_tweets = load_tweets(dest_path)"
   ]
  },
  {
   "cell_type": "markdown",
   "metadata": {
    "id": "_i_aHCjSapP6"
   },
   "source": [
    "If everything is working correctly correctly this should load roughly the last 3000 tweets by `realdonaldtrump`."
   ]
  },
  {
   "cell_type": "code",
   "execution_count": 7,
   "metadata": {
    "id": "xr55obB8apP6"
   },
   "outputs": [],
   "source": [
    "assert 2000 <= len(trump_tweets) <= 4000"
   ]
  },
  {
   "cell_type": "markdown",
   "metadata": {
    "id": "WjYXBPCpapP6"
   },
   "source": [
    "If the assert statement above works, then continue on to task 2.3.\n",
    "\n",
    "### Task 2.3\n",
    "\n",
    "Find the number of the month of the oldest tweet."
   ]
  },
  {
   "cell_type": "code",
   "execution_count": 8,
   "metadata": {
    "id": "lYPMcwPdapP6"
   },
   "outputs": [
    {
     "data": {
      "text/plain": [
       "index                              3213\n",
       "created_at    2017-10-19 11:56:15+00:00\n",
       "Name: 0, dtype: object"
      ]
     },
     "execution_count": 8,
     "metadata": {},
     "output_type": "execute_result"
    }
   ],
   "source": [
    "# Enter the number of the month of the oldest tweet (e.g. 1 for January)\n",
    "oldest_month = 10 # Enter answer here and code below this\n",
    "trump_tweets = pd.DataFrame(trump_tweets)\n",
    "\n",
    "### BEGIN ANSWER\n",
    "#Creation and Formating\n",
    "import copy\n",
    "temp = copy.deepcopy(trump_tweets)\n",
    "temp[\"created_at\"] = pd.to_datetime(temp[\"created_at\"])\n",
    "\n",
    "#Flipping dataframe\n",
    "temp[\"index\"] = temp.index.tolist()[:]\n",
    "temp = temp.set_index(temp.index[::-1])\n",
    "\n",
    "#Print\n",
    "temp.loc[0, [\"index\", \"created_at\"] ]\n",
    "\n",
    "### END ANSWER"
   ]
  },
  {
   "cell_type": "markdown",
   "metadata": {
    "id": "cNdIIfM4apP6"
   },
   "source": [
    "## PART 3  Twitter Source Analysis (group and individual)\n",
    "\n"
   ]
  },
  {
   "cell_type": "markdown",
   "metadata": {
    "id": "bnZTwTGRapP6"
   },
   "source": [
    "### Task 3.1\n",
    "\n",
    "Create a new data frame from `2016-2017.json` and merge with `trump_tweets` \n",
    "\n",
    "**Important:** There may/will be some overlap so be sure to __eliminate duplicate tweets__. If you do not eliminate the duplicates properly, your results might not be compatible with the test solution. \n",
    "**Hint:** the `id` of a tweet is always unique."
   ]
  },
  {
   "cell_type": "code",
   "execution_count": 9,
   "metadata": {
    "id": "UKw0vaWTapP6"
   },
   "outputs": [
    {
     "name": "stdout",
     "output_type": "stream",
     "text": [
      "Length of df 9478\n"
     ]
    }
   ],
   "source": [
    "# if you do not have new tweets, then all_tweets is the same as  \n",
    "# old_trump_tweets\n",
    "\n",
    "### BEGIN ANSWER\n",
    "#Getting 2016-2017.json data\n",
    "dest_path = \"./data/2016-2017.json\"\n",
    "from2016to2017_tweets = load_tweets(dest_path)\n",
    "from2016to2017_tweets = pd.DataFrame(from2016to2017_tweets)\n",
    "\n",
    "trump_tweets['id'] = trump_tweets['id'].astype(str)\n",
    "\n",
    "### TODO: Figure if this does drop message ###\n",
    "# Store merged data and drop duplicates\n",
    "all_tweets = trump_tweets.merge(\n",
    "    from2016to2017_tweets, \n",
    "    on=(list(from2016to2017_tweets)).remove(\"text\"), \n",
    "    how='outer'\n",
    ")\n",
    "all_tweets = all_tweets.drop_duplicates(\n",
    "    subset=\"id\", keep=\"first\", inplace=False\n",
    ")\n",
    "### END ANSWER\n",
    "all_tweets = all_tweets.set_index('id') # id column needs to be string type\n",
    "all_tweets.sort_index(inplace=True)\n",
    "print(\"Length of df\", len(all_tweets))\n",
    "assert(len(all_tweets) == 9478) "
   ]
  },
  {
   "cell_type": "markdown",
   "metadata": {
    "id": "w2f3pX1TapP6"
   },
   "source": [
    "### Task 3.2\n",
    "Construct a DataFrame called `df_trump` containing all the tweets stored in `all_tweets`. The index of the dataframe should be the ID of each tweet (looks something like `907698529606541312`). It should have these columns:\n",
    "\n",
    "- `time`: The time the tweet was created encoded as a datetime object. (Use `pd.to_datetime` to encode the timestamp.)\n",
    "- `source`: The source device of the tweet.\n",
    "- `text`: The text of the tweet.\n",
    "- `retweet_count`: The retweet count of the tweet. \n",
    "\n",
    "Finally, **the resulting dataframe should be sorted by the index.**\n",
    "\n",
    "**Warning:** *Some tweets will store the text in the `text` field and other will use the `full_text` field.*\n",
    "\n",
    "**Warning:** *Don't forget to check the type of index*"
   ]
  },
  {
   "cell_type": "code",
   "execution_count": 10,
   "metadata": {
    "id": "BaBrQPLNapP6",
    "scrolled": true
   },
   "outputs": [
    {
     "data": {
      "text/html": [
       "<div>\n",
       "<style scoped>\n",
       "    .dataframe tbody tr th:only-of-type {\n",
       "        vertical-align: middle;\n",
       "    }\n",
       "\n",
       "    .dataframe tbody tr th {\n",
       "        vertical-align: top;\n",
       "    }\n",
       "\n",
       "    .dataframe thead th {\n",
       "        text-align: right;\n",
       "    }\n",
       "</style>\n",
       "<table border=\"1\" class=\"dataframe\">\n",
       "  <thead>\n",
       "    <tr style=\"text-align: right;\">\n",
       "      <th></th>\n",
       "      <th>time</th>\n",
       "      <th>source</th>\n",
       "      <th>text</th>\n",
       "      <th>retweet_count</th>\n",
       "    </tr>\n",
       "    <tr>\n",
       "      <th>id</th>\n",
       "      <th></th>\n",
       "      <th></th>\n",
       "      <th></th>\n",
       "      <th></th>\n",
       "    </tr>\n",
       "  </thead>\n",
       "  <tbody>\n",
       "    <tr>\n",
       "      <th>1000061992042975232</th>\n",
       "      <td>2018-05-25 17:12:13+00:00</td>\n",
       "      <td>&lt;a href=\"http://twitter.com/download/iphone\" rel=\"nofollow\"&gt;Twitter for iPhone&lt;/a&gt;</td>\n",
       "      <td>Today, it was my great honor to deliver the 2018 Commencement Address at the United States @NavalAcademy in Annapolis, Maryland. Congratulations!\\n\\nGood luck. Godspeed. And ANCHORS AWEIGH! https://t.co/aoLBK7y16a</td>\n",
       "      <td>10562</td>\n",
       "    </tr>\n",
       "    <tr>\n",
       "      <th>1000064605903876096</th>\n",
       "      <td>2018-05-25 17:22:37+00:00</td>\n",
       "      <td>&lt;a href=\"http://twitter.com/download/iphone\" rel=\"nofollow\"&gt;Twitter for iPhone&lt;/a&gt;</td>\n",
       "      <td>On behalf of the American People, CONGRATULATIONS! We love you! https://t.co/YRlj0vRXwk</td>\n",
       "      <td>17866</td>\n",
       "    </tr>\n",
       "    <tr>\n",
       "      <th>1000114139136606209</th>\n",
       "      <td>2018-05-25 20:39:26+00:00</td>\n",
       "      <td>&lt;a href=\"https://studio.twitter.com\" rel=\"nofollow\"&gt;Media Studio&lt;/a&gt;</td>\n",
       "      <td>To the @NavalAcademy Class of 2018, I say: We know you are up to the task. We know you will make us proud. We know that glory will be yours. Because you are WINNERS, you are WARRIORS, you are FIGHTERS, you are CHAMPIONS, and YOU will lead us to VICTORY! God Bless the U.S.A.! ...</td>\n",
       "      <td>16909</td>\n",
       "    </tr>\n",
       "    <tr>\n",
       "      <th>1000138164923781121</th>\n",
       "      <td>2018-05-25 22:14:54+00:00</td>\n",
       "      <td>&lt;a href=\"http://twitter.com/download/iphone\" rel=\"nofollow\"&gt;Twitter for iPhone&lt;/a&gt;</td>\n",
       "      <td>Chicago Police have every right to legally protest against the mayor and an administration that just won’t let them do their job. The killings are at a record pace and tough police work, which Chicago will not allow, would bring things back to order fast...the killings must s...</td>\n",
       "      <td>24635</td>\n",
       "    </tr>\n",
       "    <tr>\n",
       "      <th>1000145873274359809</th>\n",
       "      <td>2018-05-25 22:45:32+00:00</td>\n",
       "      <td>&lt;a href=\"http://twitter.com/download/iphone\" rel=\"nofollow\"&gt;Twitter for iPhone&lt;/a&gt;</td>\n",
       "      <td>Funny to watch the Democrats criticize Trade Deals being negotiated by me when they don’t even know what the deals are and when for 8 years the Obama Administration did NOTHING on trade except let other countries rip off the United States. Lost almost $800 Billion/year under “O”</td>\n",
       "      <td>30848</td>\n",
       "    </tr>\n",
       "  </tbody>\n",
       "</table>\n",
       "</div>"
      ],
      "text/plain": [
       "                                         time  \\\n",
       "id                                              \n",
       "1000061992042975232 2018-05-25 17:12:13+00:00   \n",
       "1000064605903876096 2018-05-25 17:22:37+00:00   \n",
       "1000114139136606209 2018-05-25 20:39:26+00:00   \n",
       "1000138164923781121 2018-05-25 22:14:54+00:00   \n",
       "1000145873274359809 2018-05-25 22:45:32+00:00   \n",
       "\n",
       "                                                                                                 source  \\\n",
       "id                                                                                                        \n",
       "1000061992042975232  <a href=\"http://twitter.com/download/iphone\" rel=\"nofollow\">Twitter for iPhone</a>   \n",
       "1000064605903876096  <a href=\"http://twitter.com/download/iphone\" rel=\"nofollow\">Twitter for iPhone</a>   \n",
       "1000114139136606209                <a href=\"https://studio.twitter.com\" rel=\"nofollow\">Media Studio</a>   \n",
       "1000138164923781121  <a href=\"http://twitter.com/download/iphone\" rel=\"nofollow\">Twitter for iPhone</a>   \n",
       "1000145873274359809  <a href=\"http://twitter.com/download/iphone\" rel=\"nofollow\">Twitter for iPhone</a>   \n",
       "\n",
       "                                                                                                                                                                                                                                                                                                        text  \\\n",
       "id                                                                                                                                                                                                                                                                                                             \n",
       "1000061992042975232                                                                    Today, it was my great honor to deliver the 2018 Commencement Address at the United States @NavalAcademy in Annapolis, Maryland. Congratulations!\\n\\nGood luck. Godspeed. And ANCHORS AWEIGH! https://t.co/aoLBK7y16a   \n",
       "1000064605903876096                                                                                                                                                                                                  On behalf of the American People, CONGRATULATIONS! We love you! https://t.co/YRlj0vRXwk   \n",
       "1000114139136606209  To the @NavalAcademy Class of 2018, I say: We know you are up to the task. We know you will make us proud. We know that glory will be yours. Because you are WINNERS, you are WARRIORS, you are FIGHTERS, you are CHAMPIONS, and YOU will lead us to VICTORY! God Bless the U.S.A.! ...   \n",
       "1000138164923781121  Chicago Police have every right to legally protest against the mayor and an administration that just won’t let them do their job. The killings are at a record pace and tough police work, which Chicago will not allow, would bring things back to order fast...the killings must s...   \n",
       "1000145873274359809  Funny to watch the Democrats criticize Trade Deals being negotiated by me when they don’t even know what the deals are and when for 8 years the Obama Administration did NOTHING on trade except let other countries rip off the United States. Lost almost $800 Billion/year under “O”   \n",
       "\n",
       "                     retweet_count  \n",
       "id                                  \n",
       "1000061992042975232          10562  \n",
       "1000064605903876096          17866  \n",
       "1000114139136606209          16909  \n",
       "1000138164923781121          24635  \n",
       "1000145873274359809          30848  "
      ]
     },
     "execution_count": 10,
     "metadata": {},
     "output_type": "execute_result"
    }
   ],
   "source": [
    "### BEGIN ANSWER ###\n",
    "columns = [\"created_at\", \"source\", \"text\", \"full_text\", \"retweet_count\"]\n",
    "df_trump = all_tweets.loc[:, columns]\n",
    "\n",
    "df_trump.rename(\n",
    "    columns = {'created_at':'time'},\n",
    "    inplace = True\n",
    ")\n",
    "\n",
    "df_trump[\"text\"] = df_trump[\"text\"].combine_first(df_trump[\"full_text\"])\n",
    "df_trump = df_trump.drop(\"full_text\", axis=1)\n",
    "df_trump[\"time\"] = pd.to_datetime(df_trump[\"time\"])\n",
    "### END ANSWER ###\n",
    "\n",
    "df_trump.head()"
   ]
  },
  {
   "cell_type": "markdown",
   "metadata": {
    "id": "w8WbUgNBapP7"
   },
   "source": [
    "In the following questions, we are going to find out the charateristics of Trump tweets and the devices used for the tweets.\n",
    "\n",
    "\n",
    "First let's examine the source field:"
   ]
  },
  {
   "cell_type": "code",
   "execution_count": 11,
   "metadata": {
    "id": "NiXXHDmpapP7"
   },
   "outputs": [
    {
     "data": {
      "text/plain": [
       "array(['<a href=\"http://twitter.com/download/iphone\" rel=\"nofollow\">Twitter for iPhone</a>',\n",
       "       '<a href=\"https://studio.twitter.com\" rel=\"nofollow\">Media Studio</a>',\n",
       "       '<a href=\"http://twitter.com/#!/download/ipad\" rel=\"nofollow\">Twitter for iPad</a>',\n",
       "       '<a href=\"http://twitter.com\" rel=\"nofollow\">Twitter Web Client</a>',\n",
       "       'Twitter for Android', 'Twitter for iPhone', 'Twitter Web Client',\n",
       "       'Mobile Web (M5)', 'Instagram', 'Twitter Ads', 'Twitter for iPad',\n",
       "       'Media Studio', 'TweetDeck', 'Periscope'], dtype=object)"
      ]
     },
     "execution_count": 11,
     "metadata": {},
     "output_type": "execute_result"
    }
   ],
   "source": [
    "df_trump['source'].unique()"
   ]
  },
  {
   "cell_type": "markdown",
   "metadata": {
    "id": "pR-pQJ-FapP7"
   },
   "source": [
    "## Task 3.3\n",
    "\n",
    "Remove the HTML tags from the source field. \n",
    "\n",
    "**Hint:** Use `df_trump['source'].str.replace` and your favorite regular expression."
   ]
  },
  {
   "cell_type": "code",
   "execution_count": 12,
   "metadata": {
    "id": "uys4JaIuapP7"
   },
   "outputs": [
    {
     "data": {
      "text/plain": [
       "id\n",
       "1000061992042975232    Twitter for iPhone\n",
       "1000064605903876096    Twitter for iPhone\n",
       "1000114139136606209          Media Studio\n",
       "1000138164923781121    Twitter for iPhone\n",
       "1000145873274359809    Twitter for iPhone\n",
       "                              ...        \n",
       "999984492197613568     Twitter for iPhone\n",
       "999984495179726848     Twitter for iPhone\n",
       "999984503123857408     Twitter for iPhone\n",
       "999984507574018049     Twitter for iPhone\n",
       "999986971660423170     Twitter for iPhone\n",
       "Name: source, Length: 9478, dtype: object"
      ]
     },
     "execution_count": 12,
     "metadata": {},
     "output_type": "execute_result"
    }
   ],
   "source": [
    "import re\n",
    "\n",
    "### BEGIN ANSWER\n",
    "leftSideToFilter  = 'rel=\"nofollow\">'\n",
    "df_trump[\"source\"] = df_trump[\"source\"].apply(lambda x: \"\".join(x.split(leftSideToFilter)[-1]))\n",
    "\n",
    "rightSideToFilter = \"</a>\"\n",
    "df_trump[\"source\"] = df_trump[\"source\"].apply(lambda x: \"\".join(x.split(rightSideToFilter)[0]))\n",
    "### END ANSWER\n",
    "\n",
    "df_trump[\"source\"]"
   ]
  },
  {
   "cell_type": "markdown",
   "metadata": {
    "id": "PZo4QU7MapP7"
   },
   "source": [
    "### Make a plot to find out the most common device types used in accessing twitter\n",
    "\n",
    "Sort the plot in decreasing order of the most common device type"
   ]
  },
  {
   "cell_type": "code",
   "execution_count": 13,
   "metadata": {
    "id": "WOdz32WZapP7"
   },
   "outputs": [
    {
     "data": {
      "image/png": "[encoded data removed]",
      "text/plain": [
       "<Figure size 432x288 with 1 Axes>"
      ]
     },
     "metadata": {},
     "output_type": "display_data"
    }
   ],
   "source": [
    "### BEGIN ANSWER\n",
    "graph = df_trump[\"source\"].value_counts()\n",
    "\n",
    "# Graph\n",
    "### TODO: Replace this ###\n",
    "order = [\n",
    "    'Twitter for iPhone', 'Twitter for Android', 'Twitter Web Client',\n",
    "    'Media Studio', 'Twitter Ads', 'Twitter for iPad', 'Instagram', \n",
    "    'TweetDeck', 'Periscope', 'Mobile Web (M5)'   \n",
    "]\n",
    "#plt.figure(figsize =(7, 5)) \n",
    "plt.barh(order, graph.values, 0.5)\n",
    "### TODO: Replace this ###\n",
    "\n",
    "#plt.barh(graph.index, graph.values, 0.5)\n",
    "\n",
    "plt.gca().invert_yaxis()\n",
    "plt.xticks(np.arange(0,6000 + 1,1000)) \n",
    "plt.xlabel(\"Number of Tweets\", fontsize=20)\n",
    "\n",
    "plt.show()\n",
    "### END ANSWER"
   ]
  },
  {
   "cell_type": "markdown",
   "metadata": {
    "id": "ZatUeX2capP7"
   },
   "source": [
    "### Task 3.4\n",
    "Is there a difference between his Tweet behavior across these devices? We will attempt to answer this question in our subsequent analysis.\n",
    "\n",
    "First, we'll take a look at whether Trump's tweets from an Android come at different times than his tweets from an iPhone. Note that Twitter gives us his tweets in the [UTC timezone](https://www.wikiwand.com/en/List_of_UTC_time_offsets) (notice the `+0000` in the first few tweets)\n",
    "\n",
    "**Note** - If your `time` column is not in datetime format, the following code will not work."
   ]
  },
  {
   "cell_type": "code",
   "execution_count": 14,
   "metadata": {
    "id": "VhBLwCxcapP7"
   },
   "outputs": [
    {
     "data": {
      "text/plain": [
       "id\n",
       "1000061992042975232   2018-05-25 17:12:13+00:00\n",
       "1000064605903876096   2018-05-25 17:22:37+00:00\n",
       "1000114139136606209   2018-05-25 20:39:26+00:00\n",
       "Name: time, dtype: datetime64[ns, UTC]"
      ]
     },
     "execution_count": 14,
     "metadata": {},
     "output_type": "execute_result"
    }
   ],
   "source": [
    "df_trump['time'].iloc[0:3]"
   ]
  },
  {
   "cell_type": "markdown",
   "metadata": {
    "id": "CN0KG6ktapP7"
   },
   "source": [
    "We'll convert the tweet times to US Eastern Time, the timezone of New York and Washington D.C., since those are the places we would expect the most tweet activity from Trump."
   ]
  },
  {
   "cell_type": "code",
   "execution_count": 15,
   "metadata": {
    "id": "0uB-3WK4apP7"
   },
   "outputs": [
    {
     "data": {
      "text/html": [
       "<div>\n",
       "<style scoped>\n",
       "    .dataframe tbody tr th:only-of-type {\n",
       "        vertical-align: middle;\n",
       "    }\n",
       "\n",
       "    .dataframe tbody tr th {\n",
       "        vertical-align: top;\n",
       "    }\n",
       "\n",
       "    .dataframe thead th {\n",
       "        text-align: right;\n",
       "    }\n",
       "</style>\n",
       "<table border=\"1\" class=\"dataframe\">\n",
       "  <thead>\n",
       "    <tr style=\"text-align: right;\">\n",
       "      <th></th>\n",
       "      <th>time</th>\n",
       "      <th>source</th>\n",
       "      <th>text</th>\n",
       "      <th>retweet_count</th>\n",
       "      <th>est_time</th>\n",
       "    </tr>\n",
       "    <tr>\n",
       "      <th>id</th>\n",
       "      <th></th>\n",
       "      <th></th>\n",
       "      <th></th>\n",
       "      <th></th>\n",
       "      <th></th>\n",
       "    </tr>\n",
       "  </thead>\n",
       "  <tbody>\n",
       "    <tr>\n",
       "      <th>1000061992042975232</th>\n",
       "      <td>2018-05-25 17:12:13+00:00</td>\n",
       "      <td>Twitter for iPhone</td>\n",
       "      <td>Today, it was my great honor to deliver the 2018 Commencement Address at the United States @NavalAcademy in Annapolis, Maryland. Congratulations!\\n\\nGood luck. Godspeed. And ANCHORS AWEIGH! https://t.co/aoLBK7y16a</td>\n",
       "      <td>10562</td>\n",
       "      <td>2018-05-25 12:12:13-05:00</td>\n",
       "    </tr>\n",
       "    <tr>\n",
       "      <th>1000064605903876096</th>\n",
       "      <td>2018-05-25 17:22:37+00:00</td>\n",
       "      <td>Twitter for iPhone</td>\n",
       "      <td>On behalf of the American People, CONGRATULATIONS! We love you! https://t.co/YRlj0vRXwk</td>\n",
       "      <td>17866</td>\n",
       "      <td>2018-05-25 12:22:37-05:00</td>\n",
       "    </tr>\n",
       "    <tr>\n",
       "      <th>1000114139136606209</th>\n",
       "      <td>2018-05-25 20:39:26+00:00</td>\n",
       "      <td>Media Studio</td>\n",
       "      <td>To the @NavalAcademy Class of 2018, I say: We know you are up to the task. We know you will make us proud. We know that glory will be yours. Because you are WINNERS, you are WARRIORS, you are FIGHTERS, you are CHAMPIONS, and YOU will lead us to VICTORY! God Bless the U.S.A.! ...</td>\n",
       "      <td>16909</td>\n",
       "      <td>2018-05-25 15:39:26-05:00</td>\n",
       "    </tr>\n",
       "    <tr>\n",
       "      <th>1000138164923781121</th>\n",
       "      <td>2018-05-25 22:14:54+00:00</td>\n",
       "      <td>Twitter for iPhone</td>\n",
       "      <td>Chicago Police have every right to legally protest against the mayor and an administration that just won’t let them do their job. The killings are at a record pace and tough police work, which Chicago will not allow, would bring things back to order fast...the killings must s...</td>\n",
       "      <td>24635</td>\n",
       "      <td>2018-05-25 17:14:54-05:00</td>\n",
       "    </tr>\n",
       "    <tr>\n",
       "      <th>1000145873274359809</th>\n",
       "      <td>2018-05-25 22:45:32+00:00</td>\n",
       "      <td>Twitter for iPhone</td>\n",
       "      <td>Funny to watch the Democrats criticize Trade Deals being negotiated by me when they don’t even know what the deals are and when for 8 years the Obama Administration did NOTHING on trade except let other countries rip off the United States. Lost almost $800 Billion/year under “O”</td>\n",
       "      <td>30848</td>\n",
       "      <td>2018-05-25 17:45:32-05:00</td>\n",
       "    </tr>\n",
       "  </tbody>\n",
       "</table>\n",
       "</div>"
      ],
      "text/plain": [
       "                                         time              source  \\\n",
       "id                                                                  \n",
       "1000061992042975232 2018-05-25 17:12:13+00:00  Twitter for iPhone   \n",
       "1000064605903876096 2018-05-25 17:22:37+00:00  Twitter for iPhone   \n",
       "1000114139136606209 2018-05-25 20:39:26+00:00        Media Studio   \n",
       "1000138164923781121 2018-05-25 22:14:54+00:00  Twitter for iPhone   \n",
       "1000145873274359809 2018-05-25 22:45:32+00:00  Twitter for iPhone   \n",
       "\n",
       "                                                                                                                                                                                                                                                                                                        text  \\\n",
       "id                                                                                                                                                                                                                                                                                                             \n",
       "1000061992042975232                                                                    Today, it was my great honor to deliver the 2018 Commencement Address at the United States @NavalAcademy in Annapolis, Maryland. Congratulations!\\n\\nGood luck. Godspeed. And ANCHORS AWEIGH! https://t.co/aoLBK7y16a   \n",
       "1000064605903876096                                                                                                                                                                                                  On behalf of the American People, CONGRATULATIONS! We love you! https://t.co/YRlj0vRXwk   \n",
       "1000114139136606209  To the @NavalAcademy Class of 2018, I say: We know you are up to the task. We know you will make us proud. We know that glory will be yours. Because you are WINNERS, you are WARRIORS, you are FIGHTERS, you are CHAMPIONS, and YOU will lead us to VICTORY! God Bless the U.S.A.! ...   \n",
       "1000138164923781121  Chicago Police have every right to legally protest against the mayor and an administration that just won’t let them do their job. The killings are at a record pace and tough police work, which Chicago will not allow, would bring things back to order fast...the killings must s...   \n",
       "1000145873274359809  Funny to watch the Democrats criticize Trade Deals being negotiated by me when they don’t even know what the deals are and when for 8 years the Obama Administration did NOTHING on trade except let other countries rip off the United States. Lost almost $800 Billion/year under “O”   \n",
       "\n",
       "                     retweet_count                  est_time  \n",
       "id                                                            \n",
       "1000061992042975232          10562 2018-05-25 12:12:13-05:00  \n",
       "1000064605903876096          17866 2018-05-25 12:22:37-05:00  \n",
       "1000114139136606209          16909 2018-05-25 15:39:26-05:00  \n",
       "1000138164923781121          24635 2018-05-25 17:14:54-05:00  \n",
       "1000145873274359809          30848 2018-05-25 17:45:32-05:00  "
      ]
     },
     "execution_count": 15,
     "metadata": {},
     "output_type": "execute_result"
    }
   ],
   "source": [
    "df_trump['est_time'] = (\n",
    "    df_trump['time'] # Set initial timezone to UTC\n",
    "                 .dt.tz_convert(\"EST\") # Convert to Eastern Time\n",
    ")\n",
    "\n",
    "df_trump.head()"
   ]
  },
  {
   "cell_type": "markdown",
   "metadata": {
    "id": "pTusdoO5apP7"
   },
   "source": [
    "**What you need to do:**\n",
    "\n",
    "Add a column called `hour` to the `df_trump` table which contains the hour of the day as floating point number computed by:\n",
    "\n",
    "$$\n",
    "\\text{hour} + \\frac{\\text{minute}}{60} + \\frac{\\text{second}}{60^2}\n",
    "$$"
   ]
  },
  {
   "cell_type": "code",
   "execution_count": 16,
   "metadata": {
    "id": "UhkJKBxeapP8"
   },
   "outputs": [],
   "source": [
    "### BEGIN ANSWER\n",
    "#time\n",
    "xs = []\n",
    "for x in df_trump[\"est_time\"]:\n",
    "    z = 0\n",
    "    if x.time().hour == 0:\n",
    "        z = 24\n",
    "    else:\n",
    "        z = x.time().hour\n",
    "    \n",
    "    z += (x.time().minute / 60)\n",
    "    z += (x.time().second) / (np.square(60))\n",
    "    xs.append(z)\n",
    "\n",
    "df_trump[\"hour\"] = xs\n",
    "### END ANSWER"
   ]
  },
  {
   "cell_type": "code",
   "execution_count": 17,
   "metadata": {
    "id": "EkFBxTQOapP8"
   },
   "outputs": [],
   "source": [
    "assert np.isclose(df_trump.loc[\"690171032150237184\"]['hour'], 8.93639)"
   ]
  },
  {
   "cell_type": "markdown",
   "metadata": {
    "id": "Ib6CTpMTapP8"
   },
   "source": [
    "Use the `roundhour` column and plot the number of tweets at every hour of the day.\n",
    "Order the plot using the hour of the day (1 to 24). Use seaborn `countplot`"
   ]
  },
  {
   "cell_type": "code",
   "execution_count": 18,
   "metadata": {
    "id": "MQkwODiAapP8"
   },
   "outputs": [
    {
     "data": {
      "image/png": "[encoded data removed]",
      "text/plain": [
       "<Figure size 720x504 with 1 Axes>"
      ]
     },
     "metadata": {},
     "output_type": "display_data"
    }
   ],
   "source": [
    "### BEGIN ANSWER ###\n",
    "## Adding back roundhour ##\n",
    "## For some reason roundhour was lost some time after the deletion \n",
    "## of the code for part 1. Which is weird since:\n",
    "##   1) Part 1 is a self-contained except for part \n",
    "##   2) The code was changed to \"Markdown\", making it unexceutable \n",
    "##      before it was deleted. \n",
    "## So I'm for remaking it here\n",
    "df_trump[\"roundhour\"] = df_trump[\"hour\"].apply(lambda x: round(x))\n",
    "xs = []\n",
    "for x in df_trump[\"roundhour\"]:\n",
    "    if x == 25:\n",
    "        xs.append(1)\n",
    "    else:\n",
    "        xs.append(x)\n",
    "\n",
    "df_trump[\"roundhour\"] = xs\n",
    "\n",
    "## Graph ##\n",
    "fig, ax = plt.subplots(figsize=(10,7))\n",
    "sns.countplot(x=df_trump[\"roundhour\"], ax=ax)\n",
    "ax.set(\n",
    "    xlabel = \"Hour of the Day\", \n",
    "    ylabel = \"Count\", \n",
    "    title = \"The hour of the day trump uses twitter\"\n",
    ")\n",
    "plt.show()\n",
    "### END ANSWER ###"
   ]
  },
  {
   "cell_type": "markdown",
   "metadata": {
    "id": "mGD_SCtAapP8"
   },
   "source": [
    "Now, use this data along with the seaborn `distplot` function to examine the distribution over hours of the day in eastern time that trump tweets on each device for the 2 most commonly used devices.  Your plot should look somewhat similar to the following.\n",
    "<img src=\"images/device_hour2.png\" align=\"left\" alt=\"Drawing\" style=\"width: 400px;\"/>\n"
   ]
  },
  {
   "cell_type": "code",
   "execution_count": 19,
   "metadata": {
    "id": "_lXwAyKFapP8"
   },
   "outputs": [
    {
     "data": {
      "image/png": "[encoded data removed]",
      "text/plain": [
       "<Figure size 432x288 with 1 Axes>"
      ]
     },
     "metadata": {},
     "output_type": "display_data"
    }
   ],
   "source": [
    "### BEGIN ANSWER ###\n",
    "## Hide Errors (Optional) ##\n",
    "import warnings\n",
    "warnings.simplefilter('ignore', category=UserWarning)\n",
    "\n",
    "## Prepare graph ##\n",
    "graphIphone = df_trump.loc[df_trump[\"source\"] == \"Twitter for iPhone\"]\n",
    "graphIphone = graphIphone[[\"hour\"]]\n",
    "\n",
    "graphAndroid = df_trump.loc[df_trump[\"source\"] == \"Twitter for Android\"]\n",
    "graphAndroid = graphAndroid[[\"hour\"]]\n",
    "\n",
    "\n",
    "## Graphing ##\n",
    "ax = sns.distplot(\n",
    "        graphIphone, hist=False, label=\"iPhone\", color=\"blue\"\n",
    "     )\n",
    "ax = sns.distplot(\n",
    "        graphAndroid, hist=False, label=\"Android\", color=\"red\"\n",
    "     )\n",
    "\n",
    "ax.set_xticks([0, 10, 20])\n",
    "ax.set_yticks([0.00, 0.02, 0.04, 0.06, 0.08, 0.10])\n",
    "ax.set(\n",
    "    xlabel = \"Hour\",\n",
    "    ylabel = \"Fraction\"\n",
    ")\n",
    "plt.legend(loc='upper right')\n",
    "\n",
    "plt.show()\n",
    "### END ANSWER ###"
   ]
  },
  {
   "cell_type": "markdown",
   "metadata": {
    "id": "L1jbqJBqapP8"
   },
   "source": [
    "### Task 3.5\n",
    "\n",
    "According to [this Verge article](https://www.theverge.com/2017/3/29/15103504/donald-trump-iphone-using-switched-android), Donald Trump switched from an Android to an iPhone sometime in March 2017.\n",
    "\n",
    "Create a figure identical to your figure from 3.4, except that you should show the results only from 2016. If you get stuck consider looking at the `year_fraction` function from the next problem.\n",
    "\n",
    "Use this data along with the seaborn `distplot` function to examine the distribution over hours of the day in eastern time that trump tweets on each device for the 2 most commonly used devices.  Your plot should look somewhat similar to the following. \n",
    "\n",
    "During the campaign, it was theorized that Donald Trump's tweets from Android were written by him personally, and the tweets from iPhone were from his staff. Does your figure give support the theory?\n",
    "\n",
    "Response: In 2016, the time allocation for the usage of the iphone centered in the afternoon, while his tweets from 2015 to present shows that he mostly tweets in the morning. It seems that the tweets from iphone in 2016 were from his staff, not himself."
   ]
  },
  {
   "cell_type": "markdown",
   "metadata": {
    "id": "BKGr1_ULapP8"
   },
   "source": [
    "\\\\\n",
    "<img src=\"images/device_hour2.png\" align=\"left\" alt=\"Drawing\" style=\"width: 600px;\"/>\n"
   ]
  },
  {
   "cell_type": "code",
   "execution_count": 20,
   "metadata": {
    "id": "QHtptHMCapP8"
   },
   "outputs": [
    {
     "data": {
      "image/png": "[encoded data removed]",
      "text/plain": [
       "<Figure size 432x288 with 1 Axes>"
      ]
     },
     "metadata": {},
     "output_type": "display_data"
    }
   ],
   "source": [
    "### BEGIN ANSWER ###\n",
    "## Hide Errors (Optional) ##\n",
    "import warnings\n",
    "warnings.simplefilter('ignore', category=UserWarning)\n",
    "\n",
    "## Prepare graph ##\n",
    "import copy\n",
    "temp = copy.deepcopy(df_trump)\n",
    "temp[\"year\"] = temp[\"est_time\"].apply(lambda x: x.date().year)\n",
    "temp = temp.loc[(temp[\"year\"] == 2016)]\n",
    "\n",
    "graphIphone = temp.loc[df_trump[\"source\"] == \"Twitter for iPhone\"]\n",
    "graphIphone = graphIphone[[\"hour\"]]\n",
    "\n",
    "graphAndroid = temp.loc[df_trump[\"source\"] == \"Twitter for Android\"]\n",
    "graphAndroid = graphAndroid[[\"hour\"]]\n",
    "\n",
    "\n",
    "## Graphing ##\n",
    "ax = sns.distplot(\n",
    "        graphIphone, hist=False, label=\"iPhone\", color=\"blue\"\n",
    "     )\n",
    "ax = sns.distplot(\n",
    "        graphAndroid, hist=False, label=\"Android\", color=\"red\"\n",
    "     )\n",
    "\n",
    "ax.set_xticks([0, 10, 20, 30])\n",
    "ax.set_yticks([0.00, 0.02, 0.04, 0.06, 0.08, 0.10])\n",
    "ax.set(\n",
    "    xlabel = \"Hour\",\n",
    "    ylabel = \"Fraction\"\n",
    ")\n",
    "plt.legend(loc='upper right')\n",
    "\n",
    "plt.show()\n",
    "### END ANSWER ###"
   ]
  },
  {
   "cell_type": "markdown",
   "metadata": {
    "id": "1XFRyB9FapP8"
   },
   "source": [
    "### Task 3.6\n",
    "Edit this cell to answer the following questions.\n",
    "* What time of the day the Android tweets were made by Trump himself? (eg: morning, late night etc)\n",
    "\n",
    "The entire day, but most prevelant before 10am\n",
    "\n",
    "* What time of the day the Android tweets were made by paid staff?\n",
    "\n",
    "If the increase of tweets from the iphone after 10am are an indication of his staff tweeting for him, then it would follow that his android usage follows as well.\n",
    "\n",
    "Note that these are speculations based on what you observe in the data set."
   ]
  },
  {
   "cell_type": "markdown",
   "metadata": {
    "id": "P0zbpLZUapP9"
   },
   "source": [
    "### Task 3.7 Device Analysis\n",
    "Let's now look at which device he has used over the entire time period of this dataset.\n",
    "\n",
    "To examine the distribution of dates we will convert the date to a fractional year that can be plotted as a distribution.\n",
    "\n",
    "(Code borrowed from https://stackoverflow.com/questions/6451655/python-how-to-convert-datetime-dates-to-decimal-years)"
   ]
  },
  {
   "cell_type": "code",
   "execution_count": 21,
   "metadata": {
    "id": "4OEbR4afapP9"
   },
   "outputs": [],
   "source": [
    "import datetime\n",
    "def year_fraction(date):\n",
    "    start = datetime.date(date.year, 1, 1).toordinal()\n",
    "    year_length = datetime.date(date.year+1, 1, 1).toordinal() - start\n",
    "    return date.year + float(date.toordinal() - start) / year_length\n",
    "\n",
    "df_trump['year'] = df_trump['time'].apply(year_fraction) #should be df_trump"
   ]
  },
  {
   "cell_type": "markdown",
   "metadata": {
    "id": "7j4xEBAOapP9"
   },
   "source": [
    "Use the `sns.distplot` to overlay the distributions of the 2 most frequently used web technologies over the years.  Your final plot should be similar to:\n",
    "\n",
    "![title](images/source_years.png)"
   ]
  },
  {
   "cell_type": "code",
   "execution_count": 22,
   "metadata": {
    "id": "oRdFIObiapP9"
   },
   "outputs": [
    {
     "data": {
      "image/png": "[encoded data removed]",
      "text/plain": [
       "<Figure size 504x360 with 1 Axes>"
      ]
     },
     "metadata": {},
     "output_type": "display_data"
    }
   ],
   "source": [
    "### BEGIN ANSWER\n",
    "\"\"\"\n",
    "## Hide Errors (Optional) ##\n",
    "import warnings\n",
    "warnings.simplefilter('ignore', category=UserWarning)\n",
    "\"\"\"\n",
    "\n",
    "## Dataframe prep ##\n",
    "graphIphone = df_trump.loc[df_trump[\"source\"] == \"Twitter for iPhone\"]\n",
    "graphIphone = graphIphone[[\"year\"]]\n",
    "\n",
    "graphAndroid = df_trump.loc[df_trump[\"source\"] == \"Twitter for Android\"]\n",
    "graphAndroid = graphAndroid[[\"year\"]]\n",
    "\n",
    "\n",
    "## Graph Preperation ##\n",
    "plt.figure(\n",
    "    figsize=(7, 5), \n",
    "#    facecolor='whitesmoke'\n",
    ") \n",
    "\n",
    "## Graphing ##\n",
    "ax = sns.distplot(graphIphone, label=\"iPhone\", kde = True)\n",
    "ax = sns.distplot(graphAndroid, label=\"Android\", kde = True)\n",
    "\n",
    "ax.set_xticks([2016, 2017, 2018, 2019])\n",
    "ax.set_yticks([0.00, 0.25, 0.50, 0.75, 1.00, 1.25, 1.50])\n",
    "ax.set(\n",
    "    xlabel = \"year\",\n",
    "    ylabel = \"\"\n",
    ")\n",
    "\n",
    "plt.legend(loc='upper right')\n",
    "plt.show()\n",
    "### END ANSWER"
   ]
  },
  {
   "cell_type": "markdown",
   "metadata": {
    "id": "Nn0opKxWapP9"
   },
   "source": [
    "## PART 4 - Sentiment Analysis  (group and individual)\n",
    "\n",
    "It turns out that we can use the words in Trump's tweets to calculate a measure of the sentiment of the tweet. For example, the sentence \"I love America!\" has positive sentiment, whereas the sentence \"I hate taxes!\" has a negative sentiment. In addition, some words have stronger positive / negative sentiment than others: \"I love America.\" is more positive than \"I like America.\"\n",
    "\n",
    "We will use the [VADER (Valence Aware Dictionary and sEntiment Reasoner)](https://github.com/cjhutto/vaderSentiment) lexicon to analyze the sentiment of Trump's tweets. VADER is a lexicon and rule-based sentiment analysis tool that is specifically attuned to sentiments expressed in social media which is great for our usage.\n",
    "\n",
    "The VADER lexicon gives the sentiment of individual words. Run the following cell to show the first few rows of the lexicon:"
   ]
  },
  {
   "cell_type": "code",
   "execution_count": 23,
   "metadata": {
    "id": "NICSCaj_apP9",
    "outputId": "f2ddb09d-b75a-41c9-a12b-89eec667c346"
   },
   "outputs": [
    {
     "name": "stdout",
     "output_type": "stream",
     "text": [
      "$:\t-1.5\t0.80623\t[-1, -1, -1, -1, -3, -1, -3, -1, -2, -1]\n",
      "%)\t-0.4\t1.0198\t[-1, 0, -1, 0, 0, -2, -1, 2, -1, 0]\n",
      "%-)\t-1.5\t1.43178\t[-2, 0, -2, -2, -1, 2, -2, -3, -2, -3]\n",
      "&-:\t-0.4\t1.42829\t[-3, -1, 0, 0, -1, -1, -1, 2, -1, 2]\n",
      "&:\t-0.7\t0.64031\t[0, -1, -1, -1, 1, -1, -1, -1, -1, -1]\n",
      "( '}{' )\t1.6\t0.66332\t[1, 2, 2, 1, 1, 2, 2, 1, 3, 1]\n",
      "(%\t-0.9\t0.9434\t[0, 0, 1, -1, -1, -1, -2, -2, -1, -2]\n",
      "('-:\t2.2\t1.16619\t[4, 1, 4, 3, 1, 2, 3, 1, 2, 1]\n",
      "(':\t2.3\t0.9\t[1, 3, 3, 2, 2, 4, 2, 3, 1, 2]\n",
      "((-:\t2.1\t0.53852\t[2, 2, 2, 1, 2, 3, 2, 2, 3, 2]\n",
      "\n"
     ]
    }
   ],
   "source": [
    "print(''.join(open(\"data/vader_lexicon.txt\").readlines()[:10]))"
   ]
  },
  {
   "cell_type": "markdown",
   "metadata": {
    "id": "Cqr5pItGapP9"
   },
   "source": [
    "### Task 4.1\n",
    "\n",
    "As you can see, the lexicon contains emojis too! The first column of the lexicon is the *token*, or the word itself. The second column is the *polarity* of the word, or how positive / negative it is.\n",
    "\n",
    "(How did they decide the polarities of these words? What are the other two columns in the lexicon? See the link above.)\n",
    "\n",
    "Read in the lexicon into a DataFrame called `df_sent`. The index of the DF should be the tokens in the lexicon. `df_sent` should have one column: `polarity`: The polarity of each token."
   ]
  },
  {
   "cell_type": "code",
   "execution_count": 24,
   "metadata": {
    "id": "TR_upovHapP9"
   },
   "outputs": [],
   "source": [
    "### BEGIN ANSWER\n",
    "data = pd.read_csv('data/vader_lexicon.txt', sep='\\t', header=None)\n",
    "#data = pd.read_csv(\"data/vader_lexicon.txt\",delimiter='\\t',header=None)\n",
    "df_sent = pd.DataFrame()\n",
    "df_sent['token']=data[0]\n",
    "df_sent['sentiment']=data[1]\n",
    "df_sent['std']=data[2]\n",
    "df_sent['human_eval']=data[3]\n",
    "#df_sent\n",
    "### END ANSWER"
   ]
  },
  {
   "cell_type": "markdown",
   "metadata": {
    "id": "rP0VMBSFapP9"
   },
   "source": [
    "### Task 4.2\n",
    "\n",
    "Now, let's use this lexicon to calculate the overall sentiment for each of Trump's tweets. Here's the basic idea:\n",
    "\n",
    "1. For each tweet, find the sentiment of each word.\n",
    "2. Calculate the sentiment of each tweet by taking the sum of the sentiments of its words.\n",
    "\n",
    "First, let's lowercase the text in the tweets since the lexicon is also lowercase. Set the `text` column of the `df_trump` DF to be the lowercased text of each tweet."
   ]
  },
  {
   "cell_type": "code",
   "execution_count": 25,
   "metadata": {
    "id": "s5sBadfbapP9"
   },
   "outputs": [],
   "source": [
    "### BEGIN ANSWER \n",
    "df_trump[\"text\"] = df_trump[\"text\"].apply(lambda entry: entry.lower())\n",
    "### END ANSWER"
   ]
  },
  {
   "cell_type": "markdown",
   "metadata": {
    "id": "cqK4HQNVapP-"
   },
   "source": [
    "### Task 4.3\n",
    "\n",
    "Now, let's get rid of punctuation since it'll cause us to fail to match words. Create a new column called `no_punc` in the `df_trump` to be the lowercased text of each tweet with all punctuation replaced by a single space. We consider punctuation characters to be any character that isn't a Unicode word character or a whitespace character. You may want to consult the Python documentation on regexes for this problem.\n",
    "\n",
    "(Why don't we simply remove punctuation instead of replacing with a space? See if you can figure this out by looking at the tweet data.)"
   ]
  },
  {
   "cell_type": "code",
   "execution_count": 26,
   "metadata": {
    "id": "QNAvW1axapP-"
   },
   "outputs": [],
   "source": [
    "# Save your regex in punct_re\n",
    "punct_re = r'[^\\w\\s\\\\n]'\n",
    "\n",
    "### BEGIN ANSWER\n",
    "#Required if \"\\n\" is to be removed\n",
    "#punct_re = r'[^\\w\\s\\\\n](\\n*)'\n",
    "\n",
    "no_punc = []\n",
    "for tweet in df_trump[\"text\"]:\n",
    "    no_punc.append(re.sub(punct_re, ' ', tweet))\n",
    "\n",
    "df_trump[\"no_punc\"] = no_punc\n",
    "### END ANSWER"
   ]
  },
  {
   "cell_type": "code",
   "execution_count": 27,
   "metadata": {
    "id": "fmaOn2D7apP-"
   },
   "outputs": [],
   "source": [
    "assert isinstance(punct_re, str)\n",
    "assert re.search(punct_re, 'this') is None\n",
    "assert re.search(punct_re, 'this is ok') is None\n",
    "assert re.search(punct_re, 'this is\\nok') is None\n",
    "assert re.search(punct_re, 'this is not ok.') is not None\n",
    "assert re.search(punct_re, 'this#is#ok') is not None\n",
    "assert re.search(punct_re, 'this^is ok') is not None\n",
    "\n",
    "\"\"\"\n",
    "assert df_trump['no_punc'].loc[800329364986626048] == 'i watched parts of  nbcsnl saturday night live last night  it is a totally one sided  biased show   nothing funny at all  equal time for us '\n",
    "assert df_trump['text'].loc[884740553040175104] == 'working hard to get the olympics for the united states (l.a.). stay tuned!'\n",
    "\"\"\"\n",
    "\n",
    "assert df_trump['no_punc'].loc[\"800329364986626048\"] == 'i watched parts of  nbcsnl saturday night live last night  it is a totally one sided  biased show   nothing funny at all  equal time for us '\n",
    "assert df_trump['text'].loc[\"884740553040175104\"] == 'working hard to get the olympics for the united states (l.a.). stay tuned!'"
   ]
  },
  {
   "cell_type": "markdown",
   "metadata": {
    "id": "2KsT--c-apP-"
   },
   "source": [
    "### Task 4.4\n",
    "\n",
    "\n",
    "Now, let's convert the tweets into what's called a [*tidy format*](https://cran.r-project.org/web/packages/tidyr/vignettes/tidy-data.html) to make the sentiments easier to calculate. Use the `no_punc` column of `df_trump` to create a table called `tidy_format`. The index of the table should be the IDs of the tweets, repeated once for every word in the tweet. It has two columns:\n",
    "\n",
    "1. `num`: The location of the word in the tweet. For example, if the tweet was \"i love america\", then the location of the word \"i\" is 0, \"love\" is 1, and \"america\" is 2.\n",
    "2. `word`: The individual words of each tweet.\n",
    "\n",
    "The first few rows of our `tidy_format` table look like:\n",
    "\n",
    "<table border=\"1\" class=\"dataframe\">\n",
    "  <thead>\n",
    "    <tr style=\"text-align: right;\">\n",
    "      <th></th>\n",
    "      <th>num</th>\n",
    "      <th>word</th>\n",
    "    </tr>\n",
    "  </thead>\n",
    "  <tbody>\n",
    "    <tr>\n",
    "      <th>894661651760377856</th>\n",
    "      <td>0</td>\n",
    "      <td>i</td>\n",
    "    </tr>\n",
    "    <tr>\n",
    "      <th>894661651760377856</th>\n",
    "      <td>1</td>\n",
    "      <td>think</td>\n",
    "    </tr>\n",
    "    <tr>\n",
    "      <th>894661651760377856</th>\n",
    "      <td>2</td>\n",
    "      <td>senator</td>\n",
    "    </tr>\n",
    "    <tr>\n",
    "      <th>894661651760377856</th>\n",
    "      <td>3</td>\n",
    "      <td>blumenthal</td>\n",
    "    </tr>\n",
    "    <tr>\n",
    "      <th>894661651760377856</th>\n",
    "      <td>4</td>\n",
    "      <td>should</td>\n",
    "    </tr>\n",
    "  </tbody>\n",
    "</table>\n",
    "\n",
    "You can double check that your tweet with ID `894661651760377856` has the same rows as ours. Our tests don't check whether your table looks exactly like ours.\n",
    "\n",
    "As usual, try to avoid using any for loops. Our solution uses a chain of 5 methods on the 'trump' DF, albeit using some rather advanced Pandas hacking.\n",
    "\n",
    "* **Hint 1:** Try looking at the `expand` argument to pandas' `str.split`.\n",
    "\n",
    "* **Hint 2:** Try looking at the `stack()` method.\n",
    "\n",
    "* **Hint 3:** Try looking at the `level` parameter of the `reset_index` method."
   ]
  },
  {
   "cell_type": "code",
   "execution_count": 28,
   "metadata": {
    "id": "BqaENYt3apP-"
   },
   "outputs": [
    {
     "name": "stdout",
     "output_type": "stream",
     "text": [
      "                         id level_1       0\n",
      "0       1000061992042975232       0   today\n",
      "1       1000061992042975232       1      it\n",
      "2       1000061992042975232       2     was\n",
      "3       1000061992042975232       3      my\n",
      "4       1000061992042975232       4   great\n",
      "...                     ...     ...     ...\n",
      "224996   999986971660423170      30    time\n",
      "224997   999986971660423170      31     and\n",
      "224998   999986971660423170      32  talent\n",
      "224999   999986971660423170      33    will\n",
      "225000   999986971660423170      34    tell\n",
      "\n",
      "[225001 rows x 3 columns]\n"
     ]
    }
   ],
   "source": [
    "#tidy_format = ...\n",
    "### BEGIN ANSWER\n",
    "\n",
    "# To hide an error message #\n",
    "# [Caused by pd.explode()] #\n",
    "pd.options.mode.chained_assignment = None  # default='warn'\n",
    "\n",
    "# Avoid df_trump from being modified on accident #\n",
    "import copy \n",
    "tidy_format = copy.deepcopy(df_trump)\n",
    "\n",
    "# Answer #\n",
    "tidy_format[\"word\"] = tidy_format[\"no_punc\"].apply(\n",
    "                          lambda x: x.split()\n",
    "                      )\n",
    "tidy_format[\"num\"] = tidy_format[\"word\"].apply(\n",
    "                          lambda x: list(range(len(x)))\n",
    "                     )\n",
    "tidy_format = tidy_format.explode( [\"num\", \"word\"] )\n",
    "tidy_format = tidy_format[[\"num\", \"word\"]]\n",
    "\n",
    "# Printing #\n",
    "print(\n",
    "    tidy_format.rename(columns={\"num\":\"level_1\", \"word\":\"0\"})\n",
    "               .reset_index()\n",
    ")\n",
    "### END ANSWER"
   ]
  },
  {
   "cell_type": "code",
   "execution_count": 29,
   "metadata": {
    "id": "WPHMJKK1apP-"
   },
   "outputs": [],
   "source": [
    "\"\"\"\n",
    "assert tidy_format.loc[894661651760377856].shape == (27, 2)\n",
    "assert ' '.join(list(tidy_format.loc[894661651760377856]['word'])) == 'i think senator blumenthal should take a nice long vacation in vietnam where he lied about his service so he can at least say he was there'\n",
    "\"\"\"\n",
    "\n",
    "assert tidy_format.loc[\"894661651760377856\"].shape == (27, 2)\n",
    "assert ' '.join(list(tidy_format.loc[\"894661651760377856\"]['word'])) == 'i think senator blumenthal should take a nice long vacation in vietnam where he lied about his service so he can at least say he was there'"
   ]
  },
  {
   "cell_type": "markdown",
   "metadata": {
    "id": "LCkJmueyapP-"
   },
   "source": [
    "### Task 4.5\n",
    "\n",
    "Now that we have this table in the tidy format, it becomes much easier to find the sentiment of each tweet: we can join the table with the lexicon table. \n",
    "\n",
    "Add a `polarity` column to the `df_trump` table.  The `polarity` column should contain the sum of the sentiment polarity of each word in the text of the tweet.\n",
    "\n",
    "**Hint** you will need to merge the `tidy_format` and `df_sent` tables and group the final answer.\n"
   ]
  },
  {
   "cell_type": "code",
   "execution_count": 30,
   "metadata": {
    "id": "Aem_gXlMapP-"
   },
   "outputs": [
    {
     "data": {
      "text/html": [
       "<div>\n",
       "<style scoped>\n",
       "    .dataframe tbody tr th:only-of-type {\n",
       "        vertical-align: middle;\n",
       "    }\n",
       "\n",
       "    .dataframe tbody tr th {\n",
       "        vertical-align: top;\n",
       "    }\n",
       "\n",
       "    .dataframe thead th {\n",
       "        text-align: right;\n",
       "    }\n",
       "</style>\n",
       "<table border=\"1\" class=\"dataframe\">\n",
       "  <thead>\n",
       "    <tr style=\"text-align: right;\">\n",
       "      <th></th>\n",
       "      <th>time</th>\n",
       "      <th>source</th>\n",
       "      <th>text</th>\n",
       "      <th>retweet_count</th>\n",
       "      <th>est_time</th>\n",
       "      <th>hour</th>\n",
       "      <th>roundhour</th>\n",
       "      <th>year</th>\n",
       "      <th>no_punc</th>\n",
       "      <th>polarity</th>\n",
       "    </tr>\n",
       "    <tr>\n",
       "      <th>id</th>\n",
       "      <th></th>\n",
       "      <th></th>\n",
       "      <th></th>\n",
       "      <th></th>\n",
       "      <th></th>\n",
       "      <th></th>\n",
       "      <th></th>\n",
       "      <th></th>\n",
       "      <th></th>\n",
       "      <th></th>\n",
       "    </tr>\n",
       "  </thead>\n",
       "  <tbody>\n",
       "    <tr>\n",
       "      <th>1000061992042975232</th>\n",
       "      <td>2018-05-25 17:12:13+00:00</td>\n",
       "      <td>Twitter for iPhone</td>\n",
       "      <td>today, it was my great honor to deliver the 2018 commencement address at the united states @navalacademy in annapolis, maryland. congratulations!\\n\\ngood luck. godspeed. and anchors aweigh! https://t.co/aolbk7y16a</td>\n",
       "      <td>10562</td>\n",
       "      <td>2018-05-25 12:12:13-05:00</td>\n",
       "      <td>12.203611</td>\n",
       "      <td>12</td>\n",
       "      <td>2018.394521</td>\n",
       "      <td>today  it was my great honor to deliver the 2018 commencement address at the united states  navalacademy in annapolis  maryland  congratulations \\n\\ngood luck  godspeed  and anchors aweigh  https   t co aolbk7y16a</td>\n",
       "      <td>13.9</td>\n",
       "    </tr>\n",
       "    <tr>\n",
       "      <th>1000064605903876096</th>\n",
       "      <td>2018-05-25 17:22:37+00:00</td>\n",
       "      <td>Twitter for iPhone</td>\n",
       "      <td>on behalf of the american people, congratulations! we love you! https://t.co/yrlj0vrxwk</td>\n",
       "      <td>17866</td>\n",
       "      <td>2018-05-25 12:22:37-05:00</td>\n",
       "      <td>12.376944</td>\n",
       "      <td>12</td>\n",
       "      <td>2018.394521</td>\n",
       "      <td>on behalf of the american people  congratulations  we love you  https   t co yrlj0vrxwk</td>\n",
       "      <td>6.1</td>\n",
       "    </tr>\n",
       "    <tr>\n",
       "      <th>1000114139136606209</th>\n",
       "      <td>2018-05-25 20:39:26+00:00</td>\n",
       "      <td>Media Studio</td>\n",
       "      <td>to the @navalacademy class of 2018, i say: we know you are up to the task. we know you will make us proud. we know that glory will be yours. because you are winners, you are warriors, you are fighters, you are champions, and you will lead us to victory! god bless the u.s.a.! ...</td>\n",
       "      <td>16909</td>\n",
       "      <td>2018-05-25 15:39:26-05:00</td>\n",
       "      <td>15.657222</td>\n",
       "      <td>16</td>\n",
       "      <td>2018.394521</td>\n",
       "      <td>to the  navalacademy class of 2018  i say  we know you are up to the task  we know you will make us proud  we know that glory will be yours  because you are winners  you are warriors  you are fighters  you are champions  and you will lead us to victory  god bless the u s a   ...</td>\n",
       "      <td>11.8</td>\n",
       "    </tr>\n",
       "    <tr>\n",
       "      <th>1000138164923781121</th>\n",
       "      <td>2018-05-25 22:14:54+00:00</td>\n",
       "      <td>Twitter for iPhone</td>\n",
       "      <td>chicago police have every right to legally protest against the mayor and an administration that just won’t let them do their job. the killings are at a record pace and tough police work, which chicago will not allow, would bring things back to order fast...the killings must s...</td>\n",
       "      <td>24635</td>\n",
       "      <td>2018-05-25 17:14:54-05:00</td>\n",
       "      <td>17.248333</td>\n",
       "      <td>17</td>\n",
       "      <td>2018.394521</td>\n",
       "      <td>chicago police have every right to legally protest against the mayor and an administration that just won t let them do their job  the killings are at a record pace and tough police work  which chicago will not allow  would bring things back to order fast   the killings must s...</td>\n",
       "      <td>-5.7</td>\n",
       "    </tr>\n",
       "    <tr>\n",
       "      <th>1000145873274359809</th>\n",
       "      <td>2018-05-25 22:45:32+00:00</td>\n",
       "      <td>Twitter for iPhone</td>\n",
       "      <td>funny to watch the democrats criticize trade deals being negotiated by me when they don’t even know what the deals are and when for 8 years the obama administration did nothing on trade except let other countries rip off the united states. lost almost $800 billion/year under “o”</td>\n",
       "      <td>30848</td>\n",
       "      <td>2018-05-25 17:45:32-05:00</td>\n",
       "      <td>17.758889</td>\n",
       "      <td>18</td>\n",
       "      <td>2018.394521</td>\n",
       "      <td>funny to watch the democrats criticize trade deals being negotiated by me when they don t even know what the deals are and when for 8 years the obama administration did nothing on trade except let other countries rip off the united states  lost almost  800 billion year under  o</td>\n",
       "      <td>0.8</td>\n",
       "    </tr>\n",
       "    <tr>\n",
       "      <th>...</th>\n",
       "      <td>...</td>\n",
       "      <td>...</td>\n",
       "      <td>...</td>\n",
       "      <td>...</td>\n",
       "      <td>...</td>\n",
       "      <td>...</td>\n",
       "      <td>...</td>\n",
       "      <td>...</td>\n",
       "      <td>...</td>\n",
       "      <td>...</td>\n",
       "    </tr>\n",
       "    <tr>\n",
       "      <th>999984492197613568</th>\n",
       "      <td>2018-05-25 12:04:16+00:00</td>\n",
       "      <td>Twitter for iPhone</td>\n",
       "      <td>the democrats are now alluding to the the concept that having an informant placed in an opposing party’s campaign is different than having a spy, as illegal as that may be. but what about an “informant” who is paid a fortune and who “sets up” way earlier than the russian hoax?</td>\n",
       "      <td>17785</td>\n",
       "      <td>2018-05-25 07:04:16-05:00</td>\n",
       "      <td>7.071111</td>\n",
       "      <td>7</td>\n",
       "      <td>2018.394521</td>\n",
       "      <td>the democrats are now alluding to the the concept that having an informant placed in an opposing party s campaign is different than having a spy  as illegal as that may be  but what about an  informant  who is paid a fortune and who  sets up  way earlier than the russian hoax</td>\n",
       "      <td>-2.0</td>\n",
       "    </tr>\n",
       "    <tr>\n",
       "      <th>999984495179726848</th>\n",
       "      <td>2018-05-25 12:04:17+00:00</td>\n",
       "      <td>Twitter for iPhone</td>\n",
       "      <td>can anyone even imagine having spies placed in a competing campaign, by the people and party in absolute power, for the sole purpose of political advantage and gain? and to think that the party in question, even with the expenditure of far more money, lost!</td>\n",
       "      <td>22494</td>\n",
       "      <td>2018-05-25 07:04:17-05:00</td>\n",
       "      <td>7.071389</td>\n",
       "      <td>7</td>\n",
       "      <td>2018.394521</td>\n",
       "      <td>can anyone even imagine having spies placed in a competing campaign  by the people and party in absolute power  for the sole purpose of political advantage and gain  and to think that the party in question  even with the expenditure of far more money  lost</td>\n",
       "      <td>5.5</td>\n",
       "    </tr>\n",
       "    <tr>\n",
       "      <th>999984503123857408</th>\n",
       "      <td>2018-05-25 12:04:19+00:00</td>\n",
       "      <td>Twitter for iPhone</td>\n",
       "      <td>“everyone knows there was a spy, and in fact the people who were involved in the spying are admitting that there was a spy...widespread spying involving multiple people.” mollie hemingway, the federalist senior editor  but the corrupt mainstream media hates this monster story!</td>\n",
       "      <td>20810</td>\n",
       "      <td>2018-05-25 07:04:19-05:00</td>\n",
       "      <td>7.071944</td>\n",
       "      <td>7</td>\n",
       "      <td>2018.394521</td>\n",
       "      <td>everyone knows there was a spy  and in fact the people who were involved in the spying are admitting that there was a spy   widespread spying involving multiple people   mollie hemingway  the federalist senior editor  but the corrupt mainstream media hates this monster story</td>\n",
       "      <td>-1.9</td>\n",
       "    </tr>\n",
       "    <tr>\n",
       "      <th>999984507574018049</th>\n",
       "      <td>2018-05-25 12:04:20+00:00</td>\n",
       "      <td>Twitter for iPhone</td>\n",
       "      <td>democrats are so obviously rooting against us in our negotiations with north korea. just like they are coming to the defense of ms 13 thugs, saying that they are individuals &amp;amp; must be nurtured, or asking to end your big tax cuts &amp;amp; raise your taxes instead. dems have l...</td>\n",
       "      <td>25673</td>\n",
       "      <td>2018-05-25 07:04:20-05:00</td>\n",
       "      <td>7.072222</td>\n",
       "      <td>7</td>\n",
       "      <td>2018.394521</td>\n",
       "      <td>democrats are so obviously rooting against us in our negotiations with north korea  just like they are coming to the defense of ms 13 thugs  saying that they are individuals  amp  must be nurtured  or asking to end your big tax cuts  amp  raise your taxes instead  dems have l...</td>\n",
       "      <td>1.4</td>\n",
       "    </tr>\n",
       "    <tr>\n",
       "      <th>999986971660423170</th>\n",
       "      <td>2018-05-25 12:14:07+00:00</td>\n",
       "      <td>Twitter for iPhone</td>\n",
       "      <td>very good news to receive the warm and productive statement from north korea. we will soon see where it will lead, hopefully to long and enduring prosperity and peace. only time (and talent) will tell!</td>\n",
       "      <td>22984</td>\n",
       "      <td>2018-05-25 07:14:07-05:00</td>\n",
       "      <td>7.235278</td>\n",
       "      <td>7</td>\n",
       "      <td>2018.394521</td>\n",
       "      <td>very good news to receive the warm and productive statement from north korea  we will soon see where it will lead  hopefully to long and enduring prosperity and peace  only time  and talent  will tell</td>\n",
       "      <td>8.8</td>\n",
       "    </tr>\n",
       "  </tbody>\n",
       "</table>\n",
       "<p>9478 rows × 10 columns</p>\n",
       "</div>"
      ],
      "text/plain": [
       "                                         time              source  \\\n",
       "id                                                                  \n",
       "1000061992042975232 2018-05-25 17:12:13+00:00  Twitter for iPhone   \n",
       "1000064605903876096 2018-05-25 17:22:37+00:00  Twitter for iPhone   \n",
       "1000114139136606209 2018-05-25 20:39:26+00:00        Media Studio   \n",
       "1000138164923781121 2018-05-25 22:14:54+00:00  Twitter for iPhone   \n",
       "1000145873274359809 2018-05-25 22:45:32+00:00  Twitter for iPhone   \n",
       "...                                       ...                 ...   \n",
       "999984492197613568  2018-05-25 12:04:16+00:00  Twitter for iPhone   \n",
       "999984495179726848  2018-05-25 12:04:17+00:00  Twitter for iPhone   \n",
       "999984503123857408  2018-05-25 12:04:19+00:00  Twitter for iPhone   \n",
       "999984507574018049  2018-05-25 12:04:20+00:00  Twitter for iPhone   \n",
       "999986971660423170  2018-05-25 12:14:07+00:00  Twitter for iPhone   \n",
       "\n",
       "                                                                                                                                                                                                                                                                                                        text  \\\n",
       "id                                                                                                                                                                                                                                                                                                             \n",
       "1000061992042975232                                                                    today, it was my great honor to deliver the 2018 commencement address at the united states @navalacademy in annapolis, maryland. congratulations!\\n\\ngood luck. godspeed. and anchors aweigh! https://t.co/aolbk7y16a   \n",
       "1000064605903876096                                                                                                                                                                                                  on behalf of the american people, congratulations! we love you! https://t.co/yrlj0vrxwk   \n",
       "1000114139136606209  to the @navalacademy class of 2018, i say: we know you are up to the task. we know you will make us proud. we know that glory will be yours. because you are winners, you are warriors, you are fighters, you are champions, and you will lead us to victory! god bless the u.s.a.! ...   \n",
       "1000138164923781121  chicago police have every right to legally protest against the mayor and an administration that just won’t let them do their job. the killings are at a record pace and tough police work, which chicago will not allow, would bring things back to order fast...the killings must s...   \n",
       "1000145873274359809  funny to watch the democrats criticize trade deals being negotiated by me when they don’t even know what the deals are and when for 8 years the obama administration did nothing on trade except let other countries rip off the united states. lost almost $800 billion/year under “o”   \n",
       "...                                                                                                                                                                                                                                                                                                      ...   \n",
       "999984492197613568     the democrats are now alluding to the the concept that having an informant placed in an opposing party’s campaign is different than having a spy, as illegal as that may be. but what about an “informant” who is paid a fortune and who “sets up” way earlier than the russian hoax?   \n",
       "999984495179726848                         can anyone even imagine having spies placed in a competing campaign, by the people and party in absolute power, for the sole purpose of political advantage and gain? and to think that the party in question, even with the expenditure of far more money, lost!   \n",
       "999984503123857408     “everyone knows there was a spy, and in fact the people who were involved in the spying are admitting that there was a spy...widespread spying involving multiple people.” mollie hemingway, the federalist senior editor  but the corrupt mainstream media hates this monster story!   \n",
       "999984507574018049   democrats are so obviously rooting against us in our negotiations with north korea. just like they are coming to the defense of ms 13 thugs, saying that they are individuals &amp; must be nurtured, or asking to end your big tax cuts &amp; raise your taxes instead. dems have l...   \n",
       "999986971660423170                                                                                 very good news to receive the warm and productive statement from north korea. we will soon see where it will lead, hopefully to long and enduring prosperity and peace. only time (and talent) will tell!   \n",
       "\n",
       "                     retweet_count                  est_time       hour  \\\n",
       "id                                                                        \n",
       "1000061992042975232          10562 2018-05-25 12:12:13-05:00  12.203611   \n",
       "1000064605903876096          17866 2018-05-25 12:22:37-05:00  12.376944   \n",
       "1000114139136606209          16909 2018-05-25 15:39:26-05:00  15.657222   \n",
       "1000138164923781121          24635 2018-05-25 17:14:54-05:00  17.248333   \n",
       "1000145873274359809          30848 2018-05-25 17:45:32-05:00  17.758889   \n",
       "...                            ...                       ...        ...   \n",
       "999984492197613568           17785 2018-05-25 07:04:16-05:00   7.071111   \n",
       "999984495179726848           22494 2018-05-25 07:04:17-05:00   7.071389   \n",
       "999984503123857408           20810 2018-05-25 07:04:19-05:00   7.071944   \n",
       "999984507574018049           25673 2018-05-25 07:04:20-05:00   7.072222   \n",
       "999986971660423170           22984 2018-05-25 07:14:07-05:00   7.235278   \n",
       "\n",
       "                     roundhour         year  \\\n",
       "id                                            \n",
       "1000061992042975232         12  2018.394521   \n",
       "1000064605903876096         12  2018.394521   \n",
       "1000114139136606209         16  2018.394521   \n",
       "1000138164923781121         17  2018.394521   \n",
       "1000145873274359809         18  2018.394521   \n",
       "...                        ...          ...   \n",
       "999984492197613568           7  2018.394521   \n",
       "999984495179726848           7  2018.394521   \n",
       "999984503123857408           7  2018.394521   \n",
       "999984507574018049           7  2018.394521   \n",
       "999986971660423170           7  2018.394521   \n",
       "\n",
       "                                                                                                                                                                                                                                                                                                     no_punc  \\\n",
       "id                                                                                                                                                                                                                                                                                                             \n",
       "1000061992042975232                                                                    today  it was my great honor to deliver the 2018 commencement address at the united states  navalacademy in annapolis  maryland  congratulations \\n\\ngood luck  godspeed  and anchors aweigh  https   t co aolbk7y16a   \n",
       "1000064605903876096                                                                                                                                                                                                  on behalf of the american people  congratulations  we love you  https   t co yrlj0vrxwk   \n",
       "1000114139136606209  to the  navalacademy class of 2018  i say  we know you are up to the task  we know you will make us proud  we know that glory will be yours  because you are winners  you are warriors  you are fighters  you are champions  and you will lead us to victory  god bless the u s a   ...   \n",
       "1000138164923781121  chicago police have every right to legally protest against the mayor and an administration that just won t let them do their job  the killings are at a record pace and tough police work  which chicago will not allow  would bring things back to order fast   the killings must s...   \n",
       "1000145873274359809  funny to watch the democrats criticize trade deals being negotiated by me when they don t even know what the deals are and when for 8 years the obama administration did nothing on trade except let other countries rip off the united states  lost almost  800 billion year under  o    \n",
       "...                                                                                                                                                                                                                                                                                                      ...   \n",
       "999984492197613568     the democrats are now alluding to the the concept that having an informant placed in an opposing party s campaign is different than having a spy  as illegal as that may be  but what about an  informant  who is paid a fortune and who  sets up  way earlier than the russian hoax    \n",
       "999984495179726848                         can anyone even imagine having spies placed in a competing campaign  by the people and party in absolute power  for the sole purpose of political advantage and gain  and to think that the party in question  even with the expenditure of far more money  lost    \n",
       "999984503123857408      everyone knows there was a spy  and in fact the people who were involved in the spying are admitting that there was a spy   widespread spying involving multiple people   mollie hemingway  the federalist senior editor  but the corrupt mainstream media hates this monster story    \n",
       "999984507574018049   democrats are so obviously rooting against us in our negotiations with north korea  just like they are coming to the defense of ms 13 thugs  saying that they are individuals  amp  must be nurtured  or asking to end your big tax cuts  amp  raise your taxes instead  dems have l...   \n",
       "999986971660423170                                                                                 very good news to receive the warm and productive statement from north korea  we will soon see where it will lead  hopefully to long and enduring prosperity and peace  only time  and talent  will tell    \n",
       "\n",
       "                     polarity  \n",
       "id                             \n",
       "1000061992042975232      13.9  \n",
       "1000064605903876096       6.1  \n",
       "1000114139136606209      11.8  \n",
       "1000138164923781121      -5.7  \n",
       "1000145873274359809       0.8  \n",
       "...                       ...  \n",
       "999984492197613568       -2.0  \n",
       "999984495179726848        5.5  \n",
       "999984503123857408       -1.9  \n",
       "999984507574018049        1.4  \n",
       "999986971660423170        8.8  \n",
       "\n",
       "[9478 rows x 10 columns]"
      ]
     },
     "execution_count": 30,
     "metadata": {},
     "output_type": "execute_result"
    }
   ],
   "source": [
    "#df_trump['polarity'] = ...\n",
    "### BEGIN ANSWER ###\n",
    "#Preparing df_sent_merge#\n",
    "import copy\n",
    "df_sent_merge = copy.deepcopy(df_sent)\n",
    "df_sent_merge.rename(\n",
    "    columns = {'token':'word'},\n",
    "    inplace = True\n",
    ")\n",
    "df_sent_merge = df_sent_merge[[\"word\", \"sentiment\"]]\n",
    "\n",
    "# getting df_sent_merge duplicate averages #\n",
    "duplicate_series = df_sent_merge[\"word\"].isin(\n",
    "                       df_sent_merge[\"word\"][df_sent_merge[\"word\"].duplicated()]\n",
    "                   )\n",
    "duplicates = df_sent_merge[duplicate_series].sort_values(\"word\")[[\"word\", \"sentiment\"]]\n",
    "#duplicates.groupby(\"word\").apply(lambda x: print(x))\n",
    "duplicateAverages = duplicates.groupby(\"word\").apply(\n",
    "                        lambda x: x.sum() / len(x)\n",
    "                    )\n",
    "duplicateAverages = duplicateAverages.reset_index()\n",
    "\n",
    "# merge values back #\n",
    "###TODO: Replace this for loop with .map function solution below###\n",
    "for word, sentiment in duplicateAverages.values: \n",
    "    df_sent_merge.loc[df_sent_merge['word'] == word, 'sentiment'] = sentiment\n",
    "df_sent_merge = df_sent_merge.drop_duplicates()\n",
    "\n",
    "# merge the values into tidy_format #\n",
    "tidy_format = tidy_format.reset_index().merge(\n",
    "    df_sent_merge[[\"word\", \"sentiment\"]],\n",
    "    on = \"word\",\n",
    "    how='left'\n",
    ").set_index(\"id\")\n",
    "\n",
    "# Replacing nan values in polarity with 0 #\n",
    "tidy_format_nan_series = tidy_format[\"sentiment\"].apply(\n",
    "                                lambda x: np.isnan(x)\n",
    "                         )\n",
    "tidy_format.loc[tidy_format_nan_series == True, \"sentiment\"] = 0\n",
    "\n",
    "#Calculate the df_trump polarity#\n",
    "df_trump[\"polarity\"] = df_trump.index.map(\n",
    "                            lambda x:\n",
    "                            round(\n",
    "                                tidy_format.loc[x][\"sentiment\"].sum(), 1\n",
    "                            )\n",
    "                       )\n",
    "\n",
    "### END ANSWER\n",
    "df_trump"
   ]
  },
  {
   "cell_type": "code",
   "execution_count": 31,
   "metadata": {
    "id": "mhgNONHiapP-"
   },
   "outputs": [],
   "source": [
    "assert np.allclose(df_trump.loc[\"744701872456536064\", 'polarity'], 8.4)\n",
    "assert np.allclose(df_trump.loc[\"745304731346702336\", 'polarity'], 2.5)\n",
    "assert np.allclose(df_trump.loc[\"744519497764184064\", 'polarity'], 1.7)\n",
    "assert np.allclose(df_trump.loc[\"894661651760377856\", 'polarity'], 0.2)\n",
    "assert np.allclose(df_trump.loc[\"894620077634592769\", 'polarity'], 5.4)\n",
    "# If you fail this test, you dropped tweets with 0 polarity\n",
    "assert np.allclose(df_trump.loc[\"744355251365511169\", 'polarity'], 0.0)"
   ]
  },
  {
   "cell_type": "markdown",
   "metadata": {
    "id": "7iNmWEDNapP-"
   },
   "source": [
    "### Task 4.6\n",
    "Now we have a measure of the sentiment of each of his tweets! You can read over the VADER readme to understand a more robust sentiment analysis.\n",
    "Now, write the code to see the most positive and most negative tweets from Trump in your dataset:\n",
    "Find the most negative and most positive tweets made by Trump"
   ]
  },
  {
   "cell_type": "code",
   "execution_count": 32,
   "metadata": {
    "id": "MFanLgGlapP-"
   },
   "outputs": [
    {
     "name": "stdout",
     "output_type": "stream",
     "text": [
      "Most negative tweets:\n",
      "\n",
      "   it is outrageous that poisonous synthetic heroin fentanyl comes pouring into the u.s. postal system from china. we can, and must, end this now! the senate should pass the stop act – and firmly stop this poison from killing our children and destroying our country. no more delay!\n",
      "\n",
      "   the rigged russian witch hunt goes on and on as the “originators and founders” of this scam continue to be fired and demoted for their corrupt and illegal activity. all credibility is gone from this terrible hoax, and much more will be lost as it proceeds. no collusion!\n",
      "\n",
      "   james comey is a proven leaker &amp; liar. virtually everyone in washington thought he should be fired for the terrible job he did-until he was, in fact, fired. he leaked classified information, for which he should be prosecuted. he lied to congress under oath. he is a weak and.....\n",
      "\n",
      "   this is an illegally brought rigged witch hunt run by people who are totally corrupt and/or conflicted. it was started and paid for by crooked hillary and the democrats. phony dossier, fisa disgrace and so many lying and dishonest people already fired. 17 angry dems? stay tuned!\n",
      "\n",
      "   where’s the collusion? they made up a phony crime called collusion, and when there was no collusion they say there was obstruction (of a phony crime that never existed). if you fight back or say anything bad about the rigged witch hunt, they scream obstruction!\n",
      "\n"
     ]
    }
   ],
   "source": [
    "print('Most negative tweets:')\n",
    "\n",
    "### BEGIN ANSWER\n",
    "print()\n",
    "arr = df_trump.sort_values(\"polarity\")[\"text\"][0:5].values\n",
    "for tweet in arr:\n",
    "    print(\"   \" + tweet + \"\\n\")\n",
    "### END ANSWER"
   ]
  },
  {
   "cell_type": "code",
   "execution_count": 33,
   "metadata": {
    "id": "b66zMSi6apP_"
   },
   "outputs": [
    {
     "name": "stdout",
     "output_type": "stream",
     "text": [
      "Most positive tweets:\n",
      "\n",
      "   congratulations to patrick reed on his great and courageous masters win! when patrick had his amazing win at doral 5 years ago, people saw his great talent, and a bright future ahead. now he is the masters champion!\n",
      "\n",
      "   my supporters are the smartest, strongest, most hard working and most loyal that we have seen in our countries history. it is a beautiful thing to watch as we win elections and gather support from all over the country. as we get stronger, so does our country. best numbers ever!\n",
      "\n",
      "   thank you to all of my great supporters, really big progress being made. other countries wanting to fix crazy trade deals. economy is roaring. supreme court pick getting great reviews. new poll says trump, at over 90%, is the most popular republican in history of the party. wow!\n",
      "\n",
      "   it was my great honor to deliver a message at the marine corps air station miramar to our great u.s. military, straight from the heart of the american people: we support you, we thank you, we love you - and we will always have your back! https://t.co/oct1nh3don\n",
      "\n",
      "   thank you, @wvgovernor jim justice, for that warm introduction. tonight, it was my great honor to attend the “greenbrier classic – salute to service dinner” in west virginia! god bless our veterans. god bless america - and happy independence day to all! https://t.co/v35qvcn8m6\n",
      "\n"
     ]
    }
   ],
   "source": [
    "print('Most positive tweets:')\n",
    "\n",
    "### BEGIN ANSWER\n",
    "print()\n",
    "arr = df_trump.sort_values(\"polarity\")[\"text\"][::-1][0:5].values\n",
    "for tweet in arr:\n",
    "    print(\"   \" + tweet + \"\\n\")\n",
    "### END ANSWER"
   ]
  },
  {
   "cell_type": "markdown",
   "metadata": {
    "id": "rBTcV47lapP_"
   },
   "source": [
    "### Task 4.7\n",
    "Plot the distribution of tweet sentiments broken down by whether the text of the tweet contains `nyt` or `fox`.  Then in the box below comment on what we observe?\n",
    "\n",
    "![title](images/nyt_vs_fox.png)"
   ]
  },
  {
   "cell_type": "code",
   "execution_count": 34,
   "metadata": {
    "id": "0ktQdImsapP_"
   },
   "outputs": [
    {
     "data": {
      "image/png": "[encoded data removed]",
      "text/plain": [
       "<Figure size 720x360 with 1 Axes>"
      ]
     },
     "metadata": {},
     "output_type": "display_data"
    }
   ],
   "source": [
    "### BEGIN ANSWER\n",
    "## Data to Graph ##\n",
    "graph_nyt = df_trump.loc[df_trump[\"text\"].str.contains(\"nyt\")][[\"polarity\"]]\n",
    "graph_fox = df_trump.loc[df_trump[\"text\"].str.contains(\"fox\")][[\"polarity\"]]\n",
    "\n",
    "## Graph Preperation ##\n",
    "plt.figure(figsize=(10, 5)) \n",
    "\n",
    "## Graphing ##\n",
    "ax = sns.distplot(graph_nyt, label=\"nyt\", kde = True)\n",
    "ax = sns.distplot(graph_fox, label=\"fox\", kde = True)\n",
    "\n",
    "ax.set_xticks(list(range(-20,20,5)))\n",
    "ax.set_yticks([0.00, 0.05, 0.10, 0.15, 0.20, 0.25, 0.30])\n",
    "\n",
    "ax.set(\n",
    "    xlabel = \"\",\n",
    ")\n",
    "\n",
    "plt.legend(loc='upper right')\n",
    "plt.show()\n",
    "### END ANSWER"
   ]
  },
  {
   "cell_type": "markdown",
   "metadata": {
    "id": "-Z4exTkuapP_"
   },
   "source": [
    "##### Comment on what you observe:\n",
    "\n",
    "#### BEGIN ANSWER\n",
    "Trump not only sings the highest praises for fox, but he also sings these praises much more frequently. \n",
    "#### END ANSWER"
   ]
  },
  {
   "cell_type": "markdown",
   "metadata": {
    "id": "RnpgkUcpapP_"
   },
   "source": [
    "## PART 5 - Principal Component Analysis (PCA) and Twitter  (group and individual)\n",
    "A look at the top words used and the sentiments expressed in Trump tweets indicates that, some words are used with others almost all the time. A notable example is the slogan like Make America Great Again. As such, it may be beneficial to look at groups of words rather than individual words. For that, we will look at an approach applying a Principal Component Analysis. \n",
    "\n",
    "### The PCA\n",
    "The Principal Component Analysis, or PCA, is a tool generally used to identify patterns and to reduce the number of variables you have to consider in your analysis. For example, if you have data with 200 columns, it may be that a significant amount of the variance in your data can be explained by just 100 principal components. In the PCA, the first component is chosen in such a way that has the largest variance, subsequent components are orthogonal and continue covering as much variance as possible. In this way, the PCA samples as much of the variability in the data set with the first few components. Mathematically, each component is a linear combination of all the input parameters times coefficients specific for that component. These coefficients, or loading factors, are constrained such that the sum of the squares of them are equal to 1. As such, the loading factors serve as weights describing how strongly certain parameters contribute to the specific principal component. Parameters with large values of positive or negative loading factors are correlated with each other, which can serve to identify trends in your data."
   ]
  },
  {
   "cell_type": "markdown",
   "metadata": {
    "id": "o9zY4IQFapP_"
   },
   "source": [
    "### Task 5.1 Cleaning up the Data\n",
    "Using NLTK (Natural Language Toolkit) package for language processing and other python libraries, parse the json file to deal with inflected words, such as plurals, and removed stop words like common English words (the, and, it, etc) and certain political terms (the candidates names, for example). You can start with the top 50 words, but full analysis may require large number of words.\n",
    "Create a document-frequecy (df) matrix with 5000 rows and 50 columns where each column is a particular word (feature) and each row is a tweet (observation). The values of the matrix is how often the word appears. Apply the techniques we learned to reduce the weight of most common words (if necessary). Since this is a sparse matrix, you can use the sparse martix libraries to make things a bit more efficient (we can also use a regular numpy arrays to store these things since the dimensions are not too large). Lecture 6.1 captures some sparse matrix routines you can use.\n",
    "Print the first 10 rows of the df to show the matrix you created\n",
    "\n",
    "Start with the `tidy_format` dataframe"
   ]
  },
  {
   "cell_type": "code",
   "execution_count": 35,
   "metadata": {
    "id": "oiWydwJJapP_"
   },
   "outputs": [
    {
     "name": "stderr",
     "output_type": "stream",
     "text": [
      "[nltk_data] Downloading package stopwords to /home/yocif/nltk_data...\n",
      "[nltk_data]   Package stopwords is already up-to-date!\n",
      "[nltk_data] Downloading package wordnet to /home/yocif/nltk_data...\n",
      "[nltk_data]   Package wordnet is already up-to-date!\n"
     ]
    },
    {
     "name": "stdout",
     "output_type": "stream",
     "text": [
      "[[1. 0. 0. 0. 0. 0. 0. 0. 0. 0. 0. 1. 0. 0. 1. 0. 0. 0. 0. 0. 0. 0. 0. 0.\n",
      "  0. 0. 0. 0. 0. 0. 0. 1. 0. 1. 0. 0. 0. 0. 0. 0. 0. 0. 0. 0. 0. 0. 0. 0.\n",
      "  0. 0.]\n",
      " [0. 0. 1. 1. 0. 0. 0. 0. 0. 0. 0. 0. 0. 0. 0. 0. 0. 1. 0. 0. 0. 0. 0. 0.\n",
      "  0. 0. 0. 0. 0. 0. 0. 0. 0. 0. 0. 0. 0. 0. 0. 0. 0. 0. 0. 0. 0. 1. 0. 0.\n",
      "  0. 0.]\n",
      " [0. 0. 0. 0. 0. 0. 0. 0. 0. 1. 0. 0. 0. 0. 0. 0. 0. 0. 0. 0. 0. 0. 0. 0.\n",
      "  0. 0. 0. 0. 0. 0. 0. 0. 0. 0. 0. 0. 0. 1. 0. 0. 0. 0. 0. 0. 0. 0. 0. 0.\n",
      "  0. 0.]\n",
      " [0. 0. 0. 0. 0. 0. 1. 0. 0. 0. 0. 0. 0. 0. 0. 0. 0. 0. 0. 0. 1. 0. 0. 0.\n",
      "  0. 0. 0. 0. 0. 0. 0. 0. 0. 0. 1. 0. 1. 0. 0. 0. 0. 0. 0. 0. 0. 0. 0. 0.\n",
      "  0. 0.]\n",
      " [0. 0. 0. 0. 0. 0. 0. 0. 0. 0. 0. 0. 0. 0. 1. 0. 1. 0. 0. 1. 0. 0. 0. 0.\n",
      "  0. 0. 0. 0. 0. 0. 0. 0. 0. 0. 0. 0. 0. 0. 0. 0. 0. 1. 1. 1. 0. 0. 1. 0.\n",
      "  0. 0.]\n",
      " [0. 0. 0. 0. 0. 0. 0. 0. 0. 0. 0. 0. 0. 0. 0. 0. 0. 0. 0. 0. 0. 0. 0. 0.\n",
      "  0. 0. 0. 0. 1. 0. 0. 0. 0. 0. 0. 0. 1. 0. 0. 0. 0. 1. 0. 0. 0. 0. 0. 0.\n",
      "  0. 0.]\n",
      " [0. 0. 0. 0. 0. 0. 0. 0. 0. 0. 0. 0. 0. 0. 0. 0. 0. 0. 0. 0. 0. 0. 0. 0.\n",
      "  0. 0. 0. 0. 0. 0. 0. 0. 0. 0. 0. 0. 0. 0. 0. 1. 0. 0. 1. 0. 0. 0. 1. 0.\n",
      "  0. 0.]\n",
      " [1. 0. 1. 1. 0. 0. 0. 0. 0. 0. 0. 0. 1. 1. 0. 0. 0. 1. 0. 0. 0. 0. 0. 0.\n",
      "  0. 0. 0. 0. 0. 0. 0. 1. 0. 0. 0. 0. 0. 0. 0. 0. 0. 0. 0. 1. 0. 0. 0. 0.\n",
      "  0. 0.]\n",
      " [0. 0. 0. 0. 0. 0. 0. 0. 0. 0. 0. 0. 0. 0. 0. 0. 0. 0. 0. 1. 0. 0. 0. 0.\n",
      "  0. 0. 0. 0. 0. 0. 1. 0. 0. 0. 0. 0. 1. 0. 0. 0. 0. 0. 0. 0. 0. 0. 0. 0.\n",
      "  0. 0.]\n",
      " [1. 0. 1. 0. 0. 0. 0. 0. 0. 0. 0. 0. 0. 0. 0. 0. 0. 0. 0. 0. 0. 0. 0. 0.\n",
      "  0. 0. 0. 0. 0. 0. 0. 0. 0. 0. 0. 0. 0. 0. 0. 0. 0. 0. 0. 1. 0. 0. 0. 0.\n",
      "  0. 0.]]\n"
     ]
    },
    {
     "data": {
      "text/html": [
       "<div>\n",
       "<style scoped>\n",
       "    .dataframe tbody tr th:only-of-type {\n",
       "        vertical-align: middle;\n",
       "    }\n",
       "\n",
       "    .dataframe tbody tr th {\n",
       "        vertical-align: top;\n",
       "    }\n",
       "\n",
       "    .dataframe thead th {\n",
       "        text-align: right;\n",
       "    }\n",
       "</style>\n",
       "<table border=\"1\" class=\"dataframe\">\n",
       "  <thead>\n",
       "    <tr style=\"text-align: right;\">\n",
       "      <th></th>\n",
       "      <th>index</th>\n",
       "      <th>word</th>\n",
       "    </tr>\n",
       "  </thead>\n",
       "  <tbody>\n",
       "    <tr>\n",
       "      <th>0</th>\n",
       "      <td>great</td>\n",
       "      <td>1742</td>\n",
       "    </tr>\n",
       "    <tr>\n",
       "      <th>1</th>\n",
       "      <td>thank</td>\n",
       "      <td>1014</td>\n",
       "    </tr>\n",
       "    <tr>\n",
       "      <th>2</th>\n",
       "      <td>people</td>\n",
       "      <td>821</td>\n",
       "    </tr>\n",
       "    <tr>\n",
       "      <th>3</th>\n",
       "      <td>america</td>\n",
       "      <td>638</td>\n",
       "    </tr>\n",
       "    <tr>\n",
       "      <th>4</th>\n",
       "      <td>president</td>\n",
       "      <td>595</td>\n",
       "    </tr>\n",
       "    <tr>\n",
       "      <th>5</th>\n",
       "      <td>country</td>\n",
       "      <td>577</td>\n",
       "    </tr>\n",
       "    <tr>\n",
       "      <th>6</th>\n",
       "      <td>job</td>\n",
       "      <td>573</td>\n",
       "    </tr>\n",
       "    <tr>\n",
       "      <th>7</th>\n",
       "      <td>big</td>\n",
       "      <td>538</td>\n",
       "    </tr>\n",
       "    <tr>\n",
       "      <th>8</th>\n",
       "      <td>time</td>\n",
       "      <td>515</td>\n",
       "    </tr>\n",
       "    <tr>\n",
       "      <th>9</th>\n",
       "      <td>make</td>\n",
       "      <td>500</td>\n",
       "    </tr>\n",
       "    <tr>\n",
       "      <th>10</th>\n",
       "      <td>get</td>\n",
       "      <td>499</td>\n",
       "    </tr>\n",
       "    <tr>\n",
       "      <th>11</th>\n",
       "      <td>today</td>\n",
       "      <td>499</td>\n",
       "    </tr>\n",
       "    <tr>\n",
       "      <th>12</th>\n",
       "      <td>new</td>\n",
       "      <td>492</td>\n",
       "    </tr>\n",
       "    <tr>\n",
       "      <th>13</th>\n",
       "      <td>news</td>\n",
       "      <td>470</td>\n",
       "    </tr>\n",
       "    <tr>\n",
       "      <th>14</th>\n",
       "      <td>state</td>\n",
       "      <td>461</td>\n",
       "    </tr>\n",
       "    <tr>\n",
       "      <th>15</th>\n",
       "      <td>many</td>\n",
       "      <td>453</td>\n",
       "    </tr>\n",
       "    <tr>\n",
       "      <th>16</th>\n",
       "      <td>year</td>\n",
       "      <td>447</td>\n",
       "    </tr>\n",
       "    <tr>\n",
       "      <th>17</th>\n",
       "      <td>american</td>\n",
       "      <td>446</td>\n",
       "    </tr>\n",
       "    <tr>\n",
       "      <th>18</th>\n",
       "      <td>vote</td>\n",
       "      <td>422</td>\n",
       "    </tr>\n",
       "    <tr>\n",
       "      <th>19</th>\n",
       "      <td>democrat</td>\n",
       "      <td>394</td>\n",
       "    </tr>\n",
       "    <tr>\n",
       "      <th>20</th>\n",
       "      <td>would</td>\n",
       "      <td>390</td>\n",
       "    </tr>\n",
       "    <tr>\n",
       "      <th>21</th>\n",
       "      <td>want</td>\n",
       "      <td>384</td>\n",
       "    </tr>\n",
       "    <tr>\n",
       "      <th>22</th>\n",
       "      <td>fake</td>\n",
       "      <td>375</td>\n",
       "    </tr>\n",
       "    <tr>\n",
       "      <th>23</th>\n",
       "      <td>tax</td>\n",
       "      <td>363</td>\n",
       "    </tr>\n",
       "    <tr>\n",
       "      <th>24</th>\n",
       "      <td>republican</td>\n",
       "      <td>344</td>\n",
       "    </tr>\n",
       "    <tr>\n",
       "      <th>25</th>\n",
       "      <td>much</td>\n",
       "      <td>344</td>\n",
       "    </tr>\n",
       "    <tr>\n",
       "      <th>26</th>\n",
       "      <td>never</td>\n",
       "      <td>344</td>\n",
       "    </tr>\n",
       "    <tr>\n",
       "      <th>27</th>\n",
       "      <td>medium</td>\n",
       "      <td>340</td>\n",
       "    </tr>\n",
       "    <tr>\n",
       "      <th>28</th>\n",
       "      <td>one</td>\n",
       "      <td>334</td>\n",
       "    </tr>\n",
       "    <tr>\n",
       "      <th>29</th>\n",
       "      <td>crooked</td>\n",
       "      <td>331</td>\n",
       "    </tr>\n",
       "    <tr>\n",
       "      <th>30</th>\n",
       "      <td>border</td>\n",
       "      <td>329</td>\n",
       "    </tr>\n",
       "    <tr>\n",
       "      <th>31</th>\n",
       "      <td>good</td>\n",
       "      <td>325</td>\n",
       "    </tr>\n",
       "    <tr>\n",
       "      <th>32</th>\n",
       "      <td>going</td>\n",
       "      <td>319</td>\n",
       "    </tr>\n",
       "    <tr>\n",
       "      <th>33</th>\n",
       "      <td>day</td>\n",
       "      <td>310</td>\n",
       "    </tr>\n",
       "    <tr>\n",
       "      <th>34</th>\n",
       "      <td>back</td>\n",
       "      <td>309</td>\n",
       "    </tr>\n",
       "    <tr>\n",
       "      <th>35</th>\n",
       "      <td>like</td>\n",
       "      <td>302</td>\n",
       "    </tr>\n",
       "    <tr>\n",
       "      <th>36</th>\n",
       "      <td>must</td>\n",
       "      <td>301</td>\n",
       "    </tr>\n",
       "    <tr>\n",
       "      <th>37</th>\n",
       "      <td>win</td>\n",
       "      <td>300</td>\n",
       "    </tr>\n",
       "    <tr>\n",
       "      <th>38</th>\n",
       "      <td>makeamericagreatagain</td>\n",
       "      <td>292</td>\n",
       "    </tr>\n",
       "    <tr>\n",
       "      <th>39</th>\n",
       "      <td>bad</td>\n",
       "      <td>284</td>\n",
       "    </tr>\n",
       "    <tr>\n",
       "      <th>40</th>\n",
       "      <td>election</td>\n",
       "      <td>271</td>\n",
       "    </tr>\n",
       "    <tr>\n",
       "      <th>41</th>\n",
       "      <td>obama</td>\n",
       "      <td>258</td>\n",
       "    </tr>\n",
       "    <tr>\n",
       "      <th>42</th>\n",
       "      <td>deal</td>\n",
       "      <td>251</td>\n",
       "    </tr>\n",
       "    <tr>\n",
       "      <th>43</th>\n",
       "      <td>even</td>\n",
       "      <td>250</td>\n",
       "    </tr>\n",
       "    <tr>\n",
       "      <th>44</th>\n",
       "      <td>join</td>\n",
       "      <td>245</td>\n",
       "    </tr>\n",
       "    <tr>\n",
       "      <th>45</th>\n",
       "      <td>love</td>\n",
       "      <td>240</td>\n",
       "    </tr>\n",
       "    <tr>\n",
       "      <th>46</th>\n",
       "      <td>trade</td>\n",
       "      <td>237</td>\n",
       "    </tr>\n",
       "    <tr>\n",
       "      <th>47</th>\n",
       "      <td>first</td>\n",
       "      <td>237</td>\n",
       "    </tr>\n",
       "    <tr>\n",
       "      <th>48</th>\n",
       "      <td>campaign</td>\n",
       "      <td>235</td>\n",
       "    </tr>\n",
       "    <tr>\n",
       "      <th>49</th>\n",
       "      <td>poll</td>\n",
       "      <td>232</td>\n",
       "    </tr>\n",
       "  </tbody>\n",
       "</table>\n",
       "</div>"
      ],
      "text/plain": [
       "                    index  word\n",
       "0                   great  1742\n",
       "1                   thank  1014\n",
       "2                  people   821\n",
       "3                 america   638\n",
       "4               president   595\n",
       "5                 country   577\n",
       "6                     job   573\n",
       "7                     big   538\n",
       "8                    time   515\n",
       "9                    make   500\n",
       "10                    get   499\n",
       "11                  today   499\n",
       "12                    new   492\n",
       "13                   news   470\n",
       "14                  state   461\n",
       "15                   many   453\n",
       "16                   year   447\n",
       "17               american   446\n",
       "18                   vote   422\n",
       "19               democrat   394\n",
       "20                  would   390\n",
       "21                   want   384\n",
       "22                   fake   375\n",
       "23                    tax   363\n",
       "24             republican   344\n",
       "25                   much   344\n",
       "26                  never   344\n",
       "27                 medium   340\n",
       "28                    one   334\n",
       "29                crooked   331\n",
       "30                 border   329\n",
       "31                   good   325\n",
       "32                  going   319\n",
       "33                    day   310\n",
       "34                   back   309\n",
       "35                   like   302\n",
       "36                   must   301\n",
       "37                    win   300\n",
       "38  makeamericagreatagain   292\n",
       "39                    bad   284\n",
       "40               election   271\n",
       "41                  obama   258\n",
       "42                   deal   251\n",
       "43                   even   250\n",
       "44                   join   245\n",
       "45                   love   240\n",
       "46                  trade   237\n",
       "47                  first   237\n",
       "48               campaign   235\n",
       "49                   poll   232"
      ]
     },
     "execution_count": 35,
     "metadata": {},
     "output_type": "execute_result"
    }
   ],
   "source": [
    "## code to plot the first 10 rows of the matrix\n",
    "import nltk\n",
    "import nltk.corpus\n",
    "nltk.download('stopwords')\n",
    "nltk.download('wordnet')\n",
    "\n",
    "#create a dataframe called tmp to store all words appear in the tweets\n",
    "tmp = tidy_format.drop('num',axis=1)\n",
    "\n",
    "#remove stopwords\n",
    "stopwords = nltk.corpus.stopwords.words(\"english\")\n",
    "stopwords.extend(['rt','t','co','https','realdonaldtrump','amp',\"u\",'hillary','trump2016','trump','clinton','http','ha','wa'])\n",
    "tmp = tmp[~tmp['word'].isin(stopwords)]\n",
    "\n",
    "#deal with plurals\n",
    "from nltk.stem.wordnet import WordNetLemmatizer as lem\n",
    "tmp['word'] = tmp['word'].apply(lambda x: lem().lemmatize(x))\n",
    "\n",
    "# Remove numbers\n",
    "tmp = tmp[~(tmp['word'].str.isnumeric())]\n",
    "\n",
    "#Remove words with only 1 or 2 length\n",
    "tmp = tmp[(tmp['word'].str.len() > 2)]\n",
    "\n",
    "#get top50 words\n",
    "tmp = tmp.reset_index()\n",
    "top50 = tmp['word'].value_counts(ascending=False).nlargest(50).to_frame()\n",
    "\n",
    "tmp2 = tmp[tmp['word'].isin(top50.reset_index()['index'])]\n",
    "\n",
    "idlist = tmp2['id'].unique()\n",
    "idlist.sort()\n",
    "idlist = idlist[:5000]\n",
    "\n",
    "#create the tf-matrix\n",
    "matrix = np.zeros((5000,50))\n",
    "top50 = top50.reset_index()\n",
    "for a in range(5000):\n",
    "    for b in range(50):\n",
    "        if (top50['index'][b]) in df_trump['no_punc'].loc[idlist[a]]:\n",
    "            matrix[a][b] += 1\n",
    "\n",
    "## Print ##\n",
    "print(matrix[:10])\n",
    "top50"
   ]
  },
  {
   "cell_type": "markdown",
   "metadata": {
    "id": "ArZki_hcapP_"
   },
   "source": [
    "### Task 5.2 Find the PCA's\n",
    "Write the code to find the first 50 PCA's for the document-frequency matrix. Pass the document-term-matrix to scikit-learn’s (https://scikit-learn.org/stable/modules/decomposition.html#decompositions) PCA method to obtain the components and loading factors."
   ]
  },
  {
   "cell_type": "code",
   "execution_count": 36,
   "metadata": {
    "id": "CRABWO6xapP_"
   },
   "outputs": [
    {
     "name": "stdout",
     "output_type": "stream",
     "text": [
      "[[ 5.86202159e-01  1.90323539e-01 -3.13832348e-02 ...  2.72474588e-02\n",
      "  -2.34567806e-02  1.00084346e-02]\n",
      " [ 1.67419684e-01 -4.62442070e-02  2.35474038e-02 ... -2.25009794e-02\n",
      "  -1.93098550e-02  7.01166980e-02]\n",
      " [ 3.27921786e-01 -7.65935661e-01  1.51732490e-01 ... -4.00623419e-02\n",
      "   2.19839319e-02 -3.48735538e-02]\n",
      " ...\n",
      " [ 6.46004476e-03 -6.81464741e-03 -3.11627241e-03 ... -2.47231379e-02\n",
      "   5.92864129e-03 -4.11446462e-03]\n",
      " [-3.59378314e-03 -6.20139865e-03  1.66215292e-03 ...  1.30722320e-02\n",
      "  -9.02984318e-03 -8.82346873e-04]\n",
      " [-6.77223679e-05 -1.12766459e-04  2.93629257e-04 ... -1.03159269e-04\n",
      "   1.94466948e-04  2.61386164e-04]]\n",
      "[3.35674840e-01 1.57634708e-01 1.46130119e-01 1.43238863e-01\n",
      " 1.16646997e-01 1.08459440e-01 9.96582990e-02 8.95208225e-02\n",
      " 7.57638856e-02 7.33198725e-02 6.99958819e-02 6.88890497e-02\n",
      " 6.64182396e-02 6.03770696e-02 5.68009059e-02 5.59451840e-02\n",
      " 5.41527789e-02 5.07140158e-02 5.04095380e-02 4.68963397e-02\n",
      " 4.59449857e-02 4.48303439e-02 4.38334519e-02 4.17203100e-02\n",
      " 4.08345720e-02 4.03053016e-02 3.94961441e-02 3.93935917e-02\n",
      " 3.81923865e-02 3.79425010e-02 3.63890083e-02 3.50248593e-02\n",
      " 3.37090172e-02 3.34381441e-02 3.20356449e-02 3.16171938e-02\n",
      " 3.11513507e-02 3.04198805e-02 2.83816381e-02 2.76832004e-02\n",
      " 2.63634365e-02 2.59441538e-02 2.52363733e-02 2.35954498e-02\n",
      " 2.29682643e-02 1.97758614e-02 1.62480443e-02 1.48243028e-02\n",
      " 1.43282606e-02 1.95532163e-04]\n"
     ]
    }
   ],
   "source": [
    "### BEGIN ANSWER\n",
    "#mu = X.mean(axis=0)\n",
    "#X_ = X - mu\n",
    "\n",
    "matrix_mean = matrix.mean(axis=0)\n",
    "matrix_ = matrix - matrix_mean\n",
    "\n",
    "from sklearn.decomposition import PCA\n",
    "pca = PCA(n_components=50)\n",
    "#pca = PCA(n_components=50)\n",
    "pca.fit(matrix)\n",
    "print(pca.components_)\n",
    "print(pca.explained_variance_)\n",
    "component50 = pca.components_\n",
    "### END ANSWER"
   ]
  },
  {
   "cell_type": "markdown",
   "metadata": {
    "id": "UCjL4BbYapQA"
   },
   "source": [
    "### Task 5.3 Examine the PCA\n",
    "We can examine the PCA results to look at the heatmap. Make a grid plot which shows the various principal component along the x-axis and the individual words along the y-axes. Each grid box should be color-coded based on the sign of the loading factor and how large the square of that value is. Looking at it vertically, you can see which words constitute your principal components. Looking at it horizontally, you can see how individual terms are shared between components. \n",
    "\n",
    "![title](images/pca.png)\n",
    "\n"
   ]
  },
  {
   "cell_type": "code",
   "execution_count": 37,
   "metadata": {
    "id": "FeF4AKiPapQA"
   },
   "outputs": [
    {
     "data": {
      "image/png": "[encoded data removed]",
      "text/plain": [
       "<Figure size 1080x1080 with 2 Axes>"
      ]
     },
     "metadata": {},
     "output_type": "display_data"
    }
   ],
   "source": [
    "cmap = sns.diverging_palette(100, 400,as_cmap=True)\n",
    "### BEGIN ANSWER\n",
    "##Label / x-axis ticks##\n",
    "pcalabel = []\n",
    "for i in range(1,len(top50) + 1):\n",
    "    pcalabel.append('PC'+str(i))\n",
    "\n",
    "##Graphing##\n",
    "plt.figure(figsize=(15,15))\n",
    "sns.heatmap(\n",
    "    component50, #component20,\n",
    "    cmap = cmap, \n",
    "    xticklabels = pcalabel,\n",
    "    #yticklabels = top50_words, \n",
    "    yticklabels = top50[\"index\"]\n",
    ")\n",
    "plt.show()\n",
    "### END ANSWER"
   ]
  },
  {
   "cell_type": "markdown",
   "metadata": {
    "id": "BASs-3ERapQA"
   },
   "source": [
    "### Task 5.4 PCA Compare\n",
    "We can determine how many words and how many components are needed to do a good visualization. Plot PC1 and PC2 in a 2D plot. The results should be similar to following scatter plot \n",
    "\n",
    "![title](images/PC1_PC2.png)\n",
    "\n",
    "This is a scatter plot of the values of the components, but with arrows indicating some of the prominent terms as indicated by their loading factors. The values of the loading factors are used to determine the length and direction of these arrows and as such they serve as a way of expressing direction. That is, tweets which use these terms will be moved along the length of those arrows. Shown are the most important parameters."
   ]
  },
  {
   "cell_type": "code",
   "execution_count": 38,
   "metadata": {
    "id": "Kw7mi75wapQA"
   },
   "outputs": [
    {
     "data": {
      "image/png": "[encoded data removed]",
      "text/plain": [
       "<Figure size 432x432 with 3 Axes>"
      ]
     },
     "metadata": {},
     "output_type": "display_data"
    }
   ],
   "source": [
    "### BEGIN ANSWER\n",
    "## Data ##\n",
    "PC1 = (component50[0])\n",
    "PC2 = (component50[1])\n",
    "\n",
    "## Graph ##\n",
    "#plt.figure(figsize=(1, 5))\n",
    "\n",
    "#ax = sns.scatterplot(x = pca1, y = pca2)\n",
    "ax = sns.jointplot (x = PC1, y = PC2)\n",
    "ax.set_axis_labels('PC1', 'PC2', fontsize=15)\n",
    "\n",
    "plt.show()\n",
    "### END ANSWER"
   ]
  },
  {
   "cell_type": "markdown",
   "metadata": {
    "id": "n2-oIKbeapQA"
   },
   "source": [
    "## PART 6 - Twitter Engagement\n",
    "\n",
    "In this problem, we'll explore which words led to a greater average number of retweets. For example, at the time of this writing, Donald Trump has two tweets that contain the word 'oakland' (tweets 932570628451954688 and 1016609920031117312) with 36757 and 10286 retweets respectively, for an average of 23,521.5.\n",
    "\n",
    "\n",
    "Your `top_20` table should have this format:\n",
    "\n",
    "<table border=\"1\" class=\"dataframe\">\n",
    "  <thead>\n",
    "    <tr style=\"text-align: right;\">\n",
    "      <th></th>\n",
    "      <th>retweet_count</th>\n",
    "    </tr>\n",
    "    <tr>\n",
    "      <th>word</th>\n",
    "      <th></th>\n",
    "    </tr>\n",
    "  </thead>\n",
    "  <tbody>\n",
    "    <tr>\n",
    "      <th>jong</th>\n",
    "      <td>40675.666667</td>\n",
    "    </tr>\n",
    "    <tr>\n",
    "      <th>try</th>\n",
    "      <td>33937.800000</td>\n",
    "    </tr>\n",
    "    <tr>\n",
    "      <th>kim</th>\n",
    "      <td>32849.595745</td>\n",
    "    </tr>\n",
    "    <tr>\n",
    "      <th>un</th>\n",
    "      <td>32741.731707</td>\n",
    "    </tr>\n",
    "    <tr>\n",
    "      <th>maybe</th>\n",
    "      <td>30473.192308</td>\n",
    "    </tr>\n",
    "  </tbody>\n",
    "</table>"
   ]
  },
  {
   "cell_type": "markdown",
   "metadata": {
    "id": "3MzFQJDUapQA"
   },
   "source": [
    "### Task 6.1\n",
    "Find the top 20 most retweeted words. Include only words that appear in at least 25 tweets. As usual, try to do this without any for loops. You can string together ~5-7 pandas commands and get everything done on one line."
   ]
  },
  {
   "cell_type": "code",
   "execution_count": 39,
   "metadata": {
    "id": "LIiOKJjuapQA"
   },
   "outputs": [
    {
     "data": {
      "text/html": [
       "<div>\n",
       "<style scoped>\n",
       "    .dataframe tbody tr th:only-of-type {\n",
       "        vertical-align: middle;\n",
       "    }\n",
       "\n",
       "    .dataframe tbody tr th {\n",
       "        vertical-align: top;\n",
       "    }\n",
       "\n",
       "    .dataframe thead th {\n",
       "        text-align: right;\n",
       "    }\n",
       "</style>\n",
       "<table border=\"1\" class=\"dataframe\">\n",
       "  <thead>\n",
       "    <tr style=\"text-align: right;\">\n",
       "      <th></th>\n",
       "      <th>retweet_count</th>\n",
       "    </tr>\n",
       "    <tr>\n",
       "      <th>word</th>\n",
       "      <th></th>\n",
       "    </tr>\n",
       "  </thead>\n",
       "  <tbody>\n",
       "    <tr>\n",
       "      <th>jong</th>\n",
       "      <td>40874.071429</td>\n",
       "    </tr>\n",
       "    <tr>\n",
       "      <th>un</th>\n",
       "      <td>33036.131579</td>\n",
       "    </tr>\n",
       "    <tr>\n",
       "      <th>kim</th>\n",
       "      <td>32771.820513</td>\n",
       "    </tr>\n",
       "    <tr>\n",
       "      <th>maybe</th>\n",
       "      <td>30073.458333</td>\n",
       "    </tr>\n",
       "    <tr>\n",
       "      <th>kavanaugh</th>\n",
       "      <td>28651.962963</td>\n",
       "    </tr>\n",
       "    <tr>\n",
       "      <th>try</th>\n",
       "      <td>28256.551724</td>\n",
       "    </tr>\n",
       "    <tr>\n",
       "      <th>old</th>\n",
       "      <td>27613.151515</td>\n",
       "    </tr>\n",
       "    <tr>\n",
       "      <th>mccabe</th>\n",
       "      <td>27119.560000</td>\n",
       "    </tr>\n",
       "    <tr>\n",
       "      <th>flag</th>\n",
       "      <td>26803.310345</td>\n",
       "    </tr>\n",
       "    <tr>\n",
       "      <th>source</th>\n",
       "      <td>26321.307692</td>\n",
       "    </tr>\n",
       "    <tr>\n",
       "      <th>nfl</th>\n",
       "      <td>25967.939394</td>\n",
       "    </tr>\n",
       "    <tr>\n",
       "      <th>illegally</th>\n",
       "      <td>25898.600000</td>\n",
       "    </tr>\n",
       "    <tr>\n",
       "      <th>lowest</th>\n",
       "      <td>25673.756098</td>\n",
       "    </tr>\n",
       "    <tr>\n",
       "      <th>nuclear</th>\n",
       "      <td>25488.418605</td>\n",
       "    </tr>\n",
       "    <tr>\n",
       "      <th>obstruction</th>\n",
       "      <td>25027.571429</td>\n",
       "    </tr>\n",
       "    <tr>\n",
       "      <th>ban</th>\n",
       "      <td>25008.680000</td>\n",
       "    </tr>\n",
       "    <tr>\n",
       "      <th>fbi</th>\n",
       "      <td>24713.223529</td>\n",
       "    </tr>\n",
       "    <tr>\n",
       "      <th>longer</th>\n",
       "      <td>24666.830189</td>\n",
       "    </tr>\n",
       "    <tr>\n",
       "      <th>tariff</th>\n",
       "      <td>24662.800000</td>\n",
       "    </tr>\n",
       "    <tr>\n",
       "      <th>bless</th>\n",
       "      <td>24593.653846</td>\n",
       "    </tr>\n",
       "  </tbody>\n",
       "</table>\n",
       "</div>"
      ],
      "text/plain": [
       "             retweet_count\n",
       "word                      \n",
       "jong          40874.071429\n",
       "un            33036.131579\n",
       "kim           32771.820513\n",
       "maybe         30073.458333\n",
       "kavanaugh     28651.962963\n",
       "try           28256.551724\n",
       "old           27613.151515\n",
       "mccabe        27119.560000\n",
       "flag          26803.310345\n",
       "source        26321.307692\n",
       "nfl           25967.939394\n",
       "illegally     25898.600000\n",
       "lowest        25673.756098\n",
       "nuclear       25488.418605\n",
       "obstruction   25027.571429\n",
       "ban           25008.680000\n",
       "fbi           24713.223529\n",
       "longer        24666.830189\n",
       "tariff        24662.800000\n",
       "bless         24593.653846"
      ]
     },
     "execution_count": 39,
     "metadata": {},
     "output_type": "execute_result"
    }
   ],
   "source": [
    "#top_20 = ...\n",
    "### BEGIN ANSWER\n",
    "## create a dataframe called tmp to     ##\n",
    "## store all words appear in the tweets ##\n",
    "top_20 = tidy_format.groupby(\"word\") \\\n",
    "                    .size()          \\\n",
    "                    .to_frame()      \\\n",
    "\n",
    "\n",
    "## Removing: words in less than 24 tweets ##\n",
    "top_20 = top_20.loc[top_20[0] > 24]                    \\\n",
    "               .reset_index()                          \\\n",
    "               \n",
    "## Removing stopwords, and numbers  ##\n",
    "top_20 = top_20.loc[~top_20[\"word\"].isin(stopwords)]   \\\n",
    "               .loc[~(top_20[\"word\"].str.isnumeric())] \\\n",
    "\n",
    "## Changing/Removing plurals ##\n",
    "top_20[\"word\"] = top_20['word'].apply(lambda x: lem().lemmatize(x))\n",
    "\n",
    "## Filling retweet_count ##\n",
    "top_20[\"ret\"] = top_20[\"word\"].apply(\n",
    "                    lambda x:\n",
    "                    df_trump.loc[df_trump[\"retweet_count\"] > 24] \\\n",
    "                            .loc[df_trump[\"text\"].map(\n",
    "                                lambda y: \n",
    "                                re.search(r'\\W' + x + r'\\W', y) != None\n",
    "                            )] \\\n",
    "                            [\"retweet_count\"] \\\n",
    "                            .mean() \\\n",
    "                )\n",
    "\n",
    "## Conversation ##\n",
    "top_20 = top_20.dropna() \\\n",
    "               .sort_values(\"ret\")[::-1][:20] \\\n",
    "               .set_index(\"word\")[[\"ret\"]] \\\n",
    "\n",
    "## Printing ##\n",
    "top_20.rename(columns={\"ret\":\"retweet_count\"})\n",
    "### END ANSWER"
   ]
  },
  {
   "cell_type": "markdown",
   "metadata": {
    "id": "5lSh8NdyapQA"
   },
   "source": [
    "### Task 6.2\n",
    "Plot a bar chart of your results:"
   ]
  },
  {
   "cell_type": "code",
   "execution_count": 40,
   "metadata": {
    "id": "CPahzHsVapQA"
   },
   "outputs": [
    {
     "data": {
      "image/png": "[encoded data removed]",
      "text/plain": [
       "<Figure size 504x432 with 1 Axes>"
      ]
     },
     "metadata": {},
     "output_type": "display_data"
    }
   ],
   "source": [
    "### BEGIN ANSWER\n",
    "plt.figure(figsize = (7, 6)) \n",
    "plt.barh(top_20.index, top_20[\"ret\"].values, 0.6)\n",
    "\n",
    "plt.gca().invert_yaxis()\n",
    "\n",
    "plt.ylabel(\"word\", fontsize=15)\n",
    "\n",
    "plt.xticks(np.arange(0,40000 + 1,5000), fontsize=12) \n",
    "plt.yticks(top_20.index, fontsize=12) \n",
    "\n",
    "plt.show()\n",
    "### END ANSWER"
   ]
  },
  {
   "cell_type": "markdown",
   "metadata": {
    "id": "WHDvFI8bapQB"
   },
   "source": [
    "<div class=\"alert alert-block alert-info\">\n",
    "<h2>Submission Instructions</h2> \n",
    "<b> File Name:</b> Please name the file as yourSection_yourNetID_midsemester.jpynb<br>\n",
    "<b> Group Projects:</b> Each person in the group must submit a copy with both names listed and your partners contribution answered. If you are doing a group project, you must inform your TA prior to 11/10/22 that you intend to work as a group and submit your name and your partner name via the form. We will <b>not accept group work</b> if your TA has not been notified.<br>\n",
    "<b> Submit To: </b> Codebench (remove all output. Do not submit data files<br>\n",
    "<b>Warning:</b> Failure to follow directions may result in loss points.<br>\n",
    "</div>"
   ]
  },
  {
   "cell_type": "markdown",
   "metadata": {
    "id": "gjF3QW2tapQB"
   },
   "source": [
    "Created by Andy Guna @2019-2022 Credits: Josh Hug, and Berkeley Data Science Group, Steve Skiena, David Rodreguez"
   ]
  }
 ],
 "metadata": {
  "colab": {
   "name": "MidSemester Project - F21.ipynb",
   "provenance": []
  },
  "kernelspec": {
   "display_name": "Python 3 (ipykernel)",
   "language": "python",
   "name": "python3"
  },
  "language_info": {
   "codemirror_mode": {
    "name": "ipython",
    "version": 3
   },
   "file_extension": ".py",
   "mimetype": "text/x-python",
   "name": "python",
   "nbconvert_exporter": "python",
   "pygments_lexer": "ipython3",
   "version": "3.10.11"
  }
 },
 "nbformat": 4,
 "nbformat_minor": 4
}
