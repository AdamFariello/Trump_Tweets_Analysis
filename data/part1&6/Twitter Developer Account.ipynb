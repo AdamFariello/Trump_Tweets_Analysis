{
 "cells": [
  {
   "cell_type": "markdown",
   "metadata": {},
   "source": [
    "# Twitter Developer Accounts (if you intend to work in a group)\n",
    "If you are working by yourself, this is not needed. But you can ask anyway. There is no points associated with this pre-project activity"
   ]
  },
  {
   "cell_type": "markdown",
   "metadata": {},
   "source": [
    "## Downloading Recent Tweets\n",
    "It is important to download the most recent tweets (especially if you are working on a project analyzing tweets). Twitter provides the API Tweepy (http://www.tweepy.org/) that makes it easy to access twitter content that is publicly available. We will also provide example code as needed."
   ]
  },
  {
   "cell_type": "code",
   "execution_count": null,
   "metadata": {},
   "outputs": [],
   "source": [
    "!/koko/system/anaconda/envs/python39/bin/pip install --user --upgrade tweepy"
   ]
  },
  {
   "cell_type": "code",
   "execution_count": null,
   "metadata": {},
   "outputs": [],
   "source": [
    "## Make sure you have set up tweepy if you are working locally.\n",
    "# https://www.pythoncentral.io/introduction-to-tweepy-twitter-for-python/\n",
    "# After set up, the following should run:\n",
    "import tweepy"
   ]
  },
  {
   "cell_type": "markdown",
   "metadata": {},
   "source": [
    "## 1:  Accessing Twitter API  (optional for individuals)\n",
    "In order to access Twitter API, you need to get keys by signing up as a Twitter developer. We will walk you through this process. "
   ]
  },
  {
   "cell_type": "markdown",
   "metadata": {},
   "source": [
    "### 1.1\n",
    "\n",
    "Follow the instructions below to get your Twitter API keys.  **Read the instructions completely before starting.**\n",
    "\n",
    "1. [Create a Twitter account](https://twitter.com/).  You can use an existing account if you have one; if you prefer to not do this assignment under your regular account, feel free to create a throw-away account.\n",
    "2. Under account settings, add your phone number to the account.\n",
    "3. [Create a Twitter developer account](https://developer.twitter.com/en/apply/) by clicking the 'Apply' button on the top right of the page. Attach it to your Twitter account. You'll have to fill out a form describing what you want to do with the developer account. Explain that you need this for a Data Science Rutgers University and you need to analyze tweets using NLP. These applications are approved by some sort of AI system, so it doesn't matter exactly what you write. Just don't enter a bunch of alweiofalwiuhflawiuehflawuihflaiwhfe type stuff or you might get rejected.\n",
    "4. Once you're logged into your developer account, [create an application for this assignment](https://apps.twitter.com/app/new).  You can call it whatever you want, and you can write any URL when it asks for a web site.  You don't need to provide a callback URL.\n",
    "5. On the page for that application, find your Consumer Key and Consumer Secret.\n",
    "6. On the same page, create an Access Token.  Record the resulting Access Token and Access Token Secret.\n",
    "7. Edit the file [keys.json](keys.json) and replace the placeholders with your keys."
   ]
  },
  {
   "cell_type": "markdown",
   "metadata": {},
   "source": [
    "## WARNING (Please Read) !!!!\n",
    "\n",
    "\n",
    "### Protect your Twitter Keys\n",
    "<span style=\"color:red\">\n",
    "If someone has your authentication keys, they can access your Twitter account and post as you!  So don't give them to anyone, and **don't write them down in this notebook**. \n",
    "</span>\n",
    "The usual way to store sensitive information like this is to put it in a separate file and read it programmatically.  That way, you can share the rest of your code without sharing your keys.  That's why we're asking you to put your keys in `keys.json` for this assignment.\n",
    "\n",
    "\n",
    "### Avoid making too many API calls.\n",
    "\n",
    "<span style=\"color:red\">\n",
    "Twitter limits developers to a certain rate of requests for data.  If you make too many requests in a short period of time, you'll have to wait awhile (around 15 minutes) before you can make more.  </span> \n",
    "So carefully follow the code examples you see and don't rerun cells without thinking.  Instead, always save the data you've collected to a file.  We've provided templates to help you do that.\n",
    "\n",
    "\n",
    "### Be careful about which functions you call!\n",
    "\n",
    "<span style=\"color:red\">\n",
    "This API can retweet tweets, follow and unfollow people, and modify your twitter settings.  Be careful which functions you invoke! </span> It is possible that you can accidentally re-tweet some tweets because you typed `retweet` instead of `retweet_count`. \n",
    "</span>\n"
   ]
  },
  {
   "cell_type": "code",
   "execution_count": 6,
   "metadata": {},
   "outputs": [],
   "source": [
    "import json\n",
    "key_file = 'keys.json'\n",
    "# Loading your keys from keys.json (which you should have filled\n",
    "# in in question 1):\n",
    "with open(key_file) as f:\n",
    "    keys = json.load(f)\n",
    "# if you print or view the contents of keys be sure to delete the cell!"
   ]
  },
  {
   "cell_type": "code",
   "execution_count": 7,
   "metadata": {},
   "outputs": [
    {
     "data": {
      "text/plain": [
       "'HKeWJQxyKQ4kX4ZK8DkICFsvFabK4zWo6Ctjs7lTjKMxQoSypk'"
      ]
     },
     "execution_count": 7,
     "metadata": {},
     "output_type": "execute_result"
    }
   ],
   "source": [
    "keys[\"consumer_key\"]\n",
    "keys[\"consumer_secret\"]"
   ]
  },
  {
   "cell_type": "markdown",
   "metadata": {},
   "source": [
    "### 1.2 Testing Twitter Authentication\n",
    "This following code should run w/o erros or warnings and display yur twitter username. If you are working as a team, try to get a new twitter account with user names as :  student1NetId_Student2NetId (eg:  ds1089_adg133)"
   ]
  },
  {
   "cell_type": "code",
   "execution_count": 8,
   "metadata": {},
   "outputs": [
    {
     "name": "stdout",
     "output_type": "stream",
     "text": [
      "Your username is: User(_api=<tweepy.api.API object at 0x7fe788a65b50>, _json={'id': 328446778, 'id_str': '328446778', 'name': 'Andy Guna', 'screen_name': 'AndyGuna1', 'location': '', 'profile_location': None, 'description': 'I am computer science faculty at carnegie mellon checkout http://t.co/O8QXa2qZxz', 'url': 'http://t.co/2F0qb1yavm', 'entities': {'url': {'urls': [{'url': 'http://t.co/2F0qb1yavm', 'expanded_url': 'http://www.cs.cmu.edu/~guna', 'display_url': 'cs.cmu.edu/~guna', 'indices': [0, 22]}]}, 'description': {'urls': [{'url': 'http://t.co/O8QXa2qZxz', 'expanded_url': 'http://classroomsalon.org', 'display_url': 'classroomsalon.org', 'indices': [58, 80]}]}}, 'protected': False, 'followers_count': 7, 'friends_count': 7, 'listed_count': 0, 'created_at': 'Sun Jul 03 11:36:53 +0000 2011', 'favourites_count': 0, 'utc_offset': None, 'time_zone': None, 'geo_enabled': False, 'verified': False, 'statuses_count': 13, 'lang': None, 'status': {'created_at': 'Mon May 30 15:51:02 +0000 2022', 'id': 1531302171488264194, 'id_str': '1531302171488264194', 'text': '@ClutchPointsApp Butler is a class act. Too bad that 76ers let him go', 'truncated': False, 'entities': {'hashtags': [], 'symbols': [], 'user_mentions': [{'screen_name': 'ClutchPointsApp', 'name': 'ClutchPoints', 'id': 3312776298, 'id_str': '3312776298', 'indices': [0, 16]}], 'urls': []}, 'source': '<a href=\"https://mobile.twitter.com\" rel=\"nofollow\">Twitter Web App</a>', 'in_reply_to_status_id': 1531119786649743360, 'in_reply_to_status_id_str': '1531119786649743360', 'in_reply_to_user_id': 3312776298, 'in_reply_to_user_id_str': '3312776298', 'in_reply_to_screen_name': 'ClutchPointsApp', 'geo': None, 'coordinates': None, 'place': None, 'contributors': None, 'is_quote_status': False, 'retweet_count': 0, 'favorite_count': 3, 'favorited': False, 'retweeted': False, 'lang': 'en'}, 'contributors_enabled': False, 'is_translator': False, 'is_translation_enabled': False, 'profile_background_color': 'C0DEED', 'profile_background_image_url': 'http://abs.twimg.com/images/themes/theme1/bg.png', 'profile_background_image_url_https': 'https://abs.twimg.com/images/themes/theme1/bg.png', 'profile_background_tile': False, 'profile_image_url': 'http://abs.twimg.com/sticky/default_profile_images/default_profile_normal.png', 'profile_image_url_https': 'https://abs.twimg.com/sticky/default_profile_images/default_profile_normal.png', 'profile_link_color': '1DA1F2', 'profile_sidebar_border_color': 'C0DEED', 'profile_sidebar_fill_color': 'DDEEF6', 'profile_text_color': '333333', 'profile_use_background_image': True, 'has_extended_profile': False, 'default_profile': True, 'default_profile_image': True, 'following': False, 'follow_request_sent': False, 'notifications': False, 'translator_type': 'none', 'withheld_in_countries': [], 'suspended': False, 'needs_phone_verification': False}, id=328446778, id_str='328446778', name='Andy Guna', screen_name='AndyGuna1', location='', profile_location=None, description='I am computer science faculty at carnegie mellon checkout http://t.co/O8QXa2qZxz', url='http://t.co/2F0qb1yavm', entities={'url': {'urls': [{'url': 'http://t.co/2F0qb1yavm', 'expanded_url': 'http://www.cs.cmu.edu/~guna', 'display_url': 'cs.cmu.edu/~guna', 'indices': [0, 22]}]}, 'description': {'urls': [{'url': 'http://t.co/O8QXa2qZxz', 'expanded_url': 'http://classroomsalon.org', 'display_url': 'classroomsalon.org', 'indices': [58, 80]}]}}, protected=False, followers_count=7, friends_count=7, listed_count=0, created_at=datetime.datetime(2011, 7, 3, 11, 36, 53, tzinfo=datetime.timezone.utc), favourites_count=0, utc_offset=None, time_zone=None, geo_enabled=False, verified=False, statuses_count=13, lang=None, status=Status(_api=<tweepy.api.API object at 0x7fe788a65b50>, _json={'created_at': 'Mon May 30 15:51:02 +0000 2022', 'id': 1531302171488264194, 'id_str': '1531302171488264194', 'text': '@ClutchPointsApp Butler is a class act. Too bad that 76ers let him go', 'truncated': False, 'entities': {'hashtags': [], 'symbols': [], 'user_mentions': [{'screen_name': 'ClutchPointsApp', 'name': 'ClutchPoints', 'id': 3312776298, 'id_str': '3312776298', 'indices': [0, 16]}], 'urls': []}, 'source': '<a href=\"https://mobile.twitter.com\" rel=\"nofollow\">Twitter Web App</a>', 'in_reply_to_status_id': 1531119786649743360, 'in_reply_to_status_id_str': '1531119786649743360', 'in_reply_to_user_id': 3312776298, 'in_reply_to_user_id_str': '3312776298', 'in_reply_to_screen_name': 'ClutchPointsApp', 'geo': None, 'coordinates': None, 'place': None, 'contributors': None, 'is_quote_status': False, 'retweet_count': 0, 'favorite_count': 3, 'favorited': False, 'retweeted': False, 'lang': 'en'}, created_at=datetime.datetime(2022, 5, 30, 15, 51, 2, tzinfo=datetime.timezone.utc), id=1531302171488264194, id_str='1531302171488264194', text='@ClutchPointsApp Butler is a class act. Too bad that 76ers let him go', truncated=False, entities={'hashtags': [], 'symbols': [], 'user_mentions': [{'screen_name': 'ClutchPointsApp', 'name': 'ClutchPoints', 'id': 3312776298, 'id_str': '3312776298', 'indices': [0, 16]}], 'urls': []}, source='Twitter Web App', source_url='https://mobile.twitter.com', in_reply_to_status_id=1531119786649743360, in_reply_to_status_id_str='1531119786649743360', in_reply_to_user_id=3312776298, in_reply_to_user_id_str='3312776298', in_reply_to_screen_name='ClutchPointsApp', geo=None, coordinates=None, place=None, contributors=None, is_quote_status=False, retweet_count=0, favorite_count=3, favorited=False, retweeted=False, lang='en'), contributors_enabled=False, is_translator=False, is_translation_enabled=False, profile_background_color='C0DEED', profile_background_image_url='http://abs.twimg.com/images/themes/theme1/bg.png', profile_background_image_url_https='https://abs.twimg.com/images/themes/theme1/bg.png', profile_background_tile=False, profile_image_url='http://abs.twimg.com/sticky/default_profile_images/default_profile_normal.png', profile_image_url_https='https://abs.twimg.com/sticky/default_profile_images/default_profile_normal.png', profile_link_color='1DA1F2', profile_sidebar_border_color='C0DEED', profile_sidebar_fill_color='DDEEF6', profile_text_color='333333', profile_use_background_image=True, has_extended_profile=False, default_profile=True, default_profile_image=True, following=False, follow_request_sent=False, notifications=False, translator_type='none', withheld_in_countries=[], suspended=False, needs_phone_verification=False)\n"
     ]
    }
   ],
   "source": [
    "import tweepy\n",
    "from tweepy import TweepyException\n",
    "import logging\n",
    "\n",
    "try:\n",
    "    auth = tweepy.OAuthHandler(keys[\"consumer_key\"], keys[\"consumer_secret\"])\n",
    "    auth.set_access_token(keys[\"access_token\"], keys[\"access_token_secret\"])\n",
    "    api = tweepy.API(auth)\n",
    "    user = api.get_user(screen_name='andyguna1')\n",
    "    print(\"Your username is:\", user)\n",
    "except TweepyException as e:\n",
    "    logging.warning(\"There was a Tweepy error. Double check your API keys and try again.\")\n",
    "    logging.warning(e)"
   ]
  },
  {
   "cell_type": "markdown",
   "metadata": {},
   "source": [
    "## 2 - Working with Twitter\n",
    "The json file in data folder contains (to be downloaded by you) some loaded tweets from @RutgersU. Run it and read the code. You can also try other json files in the data folder to try this. "
   ]
  },
  {
   "cell_type": "code",
   "execution_count": 5,
   "metadata": {},
   "outputs": [
    {
     "name": "stdout",
     "output_type": "stream",
     "text": [
      "['If you don’t like Twitter anymore, there is awesome site called Masterbatedone https://t.co/Jl7lpC5oEu', 'Hardcore Democrats or Republicans never vote for the other side, so independent voters are the ones who actually decide who’s in charge!', 'To independent-minded voters:\\n\\nShared power curbs the worst excesses of both parties, therefore I recommend voting… https://t.co/eoF1ahHtxj', 'But if Twitter is bird, that’s means … 🤯', 'Back when birds were real', 'How times have changed https://t.co/gCxUkZ4kZC', '@TomFitton @Twitter We do', 'Twitter rules will evolve over time, but they’re currently the following: https://t.co/Ut1tXuefso', '@greg16676935420 @jack Birds haven’t been real since 1986 https://t.co/lR6BZj0nwX', '@mcuban $8 for all', '@stillgray @jack Exactly', '@jack Not everything needs to have “bird” in the name! Too many bird groups fighting each internally other at Twitter. Angry Birds.', '@jack Birdwatch gives me the creeps', '@SarahKSilverman Community Notes aka @birdwatch', '@GPrime85 @bennyjohnson @kathygriffin 🤣', '@bennyjohnson @kathygriffin For $8', '@bennyjohnson @kathygriffin But if she really wants her account back, she can have it', '@bennyjohnson @kathygriffin Actually, she was suspended for impersonating a comedian', '@stillgray At the end of the day, if Twitter is indeed the most accurate source of information, more people will use it', '@jack As judged by the people of Twitter via Community Notes (formerly Birdwatch)']\n"
     ]
    }
   ],
   "source": [
    "from pathlib import Path\n",
    "import json\n",
    "tweets = api.user_timeline(screen_name='elonmusk')\n",
    "tmp=[] \n",
    "# create array of tweet information: username, \n",
    "# tweet id, date/time, text\n",
    "tweets_for_csv = [tweet.text for tweet in tweets] # CSV file created \n",
    "for j in tweets_for_csv:\n",
    "  # Appending tweets to the empty array tmp\n",
    "  tmp.append(j) \n",
    "print(tmp)\n",
    "\n",
    "tweet_list = []\n",
    "for tweet in tweets:\n",
    "    tweepy.Cursor(api.user_timeline, screen_name = \"elonmusk\", count = 200, tweet_mode \n",
    "    = 'extended').items "
   ]
  },
  {
   "cell_type": "code",
   "execution_count": 10,
   "metadata": {},
   "outputs": [
    {
     "ename": "SyntaxError",
     "evalue": "expression cannot contain assignment, perhaps you meant \"==\"? (<ipython-input-10-4bedbac712f4>, line 21)",
     "output_type": "error",
     "traceback": [
      "\u001b[0;36m  File \u001b[0;32m\"<ipython-input-10-4bedbac712f4>\"\u001b[0;36m, line \u001b[0;32m21\u001b[0m\n\u001b[0;31m    environment_name = ???,\u001b[0m\n\u001b[0m    ^\u001b[0m\n\u001b[0;31mSyntaxError\u001b[0m\u001b[0;31m:\u001b[0m expression cannot contain assignment, perhaps you meant \"==\"?\n"
     ]
    }
   ],
   "source": [
    "import tweepy as tw\n",
    "from datetime import date,timedelta\n",
    "from dateutil.relativedelta import relativedelta\n",
    "\n",
    "# Create a range of dates \n",
    "start_date = date(2020,1,1)\n",
    "end_date = date(2020,1,31)\n",
    "date_range = [start_date + timedelta(days = i) for i in range(relativedelta(end_date,start_date).days)]\n",
    "dates_str =[i.strftime('%Y%m%d%H%M') for i in date_range]\n",
    "\n",
    "# Autenticate twitter\n",
    "auth = tweepy.OAuthHandler(keys[\"consumer_key\"], keys[\"consumer_secret\"])\n",
    "api = tw.API(auth)\n",
    "\n",
    "df_list = []\n",
    "\n",
    "# Iterate over each date and extract maximum of 100 tweets per date. How do I increase this number?\n",
    "for dt_idx, dt in enumerate(date_str):\n",
    "    if dt_idx < len(dates_str) - 1:\n",
    "        twObj = api,search_full_archive(\n",
    "            environment_name = ???,\n",
    "            query = '#Taal',\n",
    "            fromDate = dates_str[dt_idx],\n",
    "            toDate = dates_str[dt_idx + 1],\n",
    "        )\n",
    "        \n",
    "        #iterate over the tweet object and save tweet text\n",
    "        tweet_list = []\n",
    "        for tweet in twObj:\n",
    "            tweet_list.append(tweet.text)"
   ]
  },
  {
   "cell_type": "markdown",
   "metadata": {},
   "source": [
    "If things ran as expected, you should be able to look at the first tweet by running the code below. It probabably does not make sense to view all tweets in a notebook, as size of the tweets can freeze your browser (always a good idea to press ctrl-S to save the latest, in case you have to restart Jupyter)"
   ]
  },
  {
   "cell_type": "markdown",
   "metadata": {},
   "source": [
    "Created by Andy Guna @2022 Credits: Josh Hug, and Berkeley Data Science Group"
   ]
  }
 ],
 "metadata": {
  "kernelspec": {
   "display_name": "Python 3",
   "language": "python",
   "name": "python3"
  },
  "language_info": {
   "codemirror_mode": {
    "name": "ipython",
    "version": 3
   },
   "file_extension": ".py",
   "mimetype": "text/x-python",
   "name": "python",
   "nbconvert_exporter": "python",
   "pygments_lexer": "ipython3",
   "version": "3.9.5"
  }
 },
 "nbformat": 4,
 "nbformat_minor": 4
}
